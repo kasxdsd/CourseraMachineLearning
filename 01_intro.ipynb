{
  "cells": [
    {
      "cell_type": "markdown",
      "metadata": {
        "id": "view-in-github",
        "colab_type": "text"
      },
      "source": [
        "<a href=\"https://colab.research.google.com/github/kasxdsd/CourseraMachineLearning/blob/master/01_intro.ipynb\" target=\"_parent\"><img src=\"https://colab.research.google.com/assets/colab-badge.svg\" alt=\"Open In Colab\"/></a>"
      ]
    },
    {
      "cell_type": "code",
      "execution_count": 9,
      "metadata": {
        "id": "RccG8sq4MPSj"
      },
      "outputs": [],
      "source": [
        "#hide\n",
        "! [ -e /content ] && pip install -Uqq fastbook\n",
        "import fastbook\n",
        "fastbook.setup_book()"
      ]
    },
    {
      "cell_type": "code",
      "execution_count": 10,
      "metadata": {
        "id": "e28Eh6QYMPSn"
      },
      "outputs": [],
      "source": [
        "#hide\n",
        "from fastbook import *"
      ]
    },
    {
      "cell_type": "raw",
      "metadata": {
        "id": "wJQIXJSUMPSn"
      },
      "source": [
        "[[chapter_intro]]"
      ]
    },
    {
      "cell_type": "markdown",
      "metadata": {
        "id": "mz8iibD7MPSn"
      },
      "source": [
        "# Your Deep Learning Journey"
      ]
    },
    {
      "cell_type": "markdown",
      "metadata": {
        "id": "U0hQs4PuMPSp"
      },
      "source": [
        "Hello, and thank you for letting us join you on your deep learning journey, however far along that you may be! In this chapter, we will tell you a little bit more about what to expect in this book, introduce the key concepts behind deep learning, and train our first models on different tasks. It doesn't matter if you don't come from a technical or a mathematical background (though it's okay if you do too!); we wrote this book to make deep learning accessible to as many people as possible."
      ]
    },
    {
      "cell_type": "markdown",
      "metadata": {
        "id": "k_uS6l-6MPSp"
      },
      "source": [
        "## Deep Learning Is for Everyone"
      ]
    },
    {
      "cell_type": "markdown",
      "metadata": {
        "id": "yHgZeMhQMPSp"
      },
      "source": [
        "A lot of people assume that you need all kinds of hard-to-find stuff to get great results with deep learning, but as you'll see in this book, those people are wrong. <<myths>> is a list of a few thing you *absolutely don't need* to do world-class deep learning.\n",
        "\n",
        "```asciidoc\n",
        "[[myths]]\n",
        ".What you don't need to do deep learning\n",
        "[options=\"header\"]\n",
        "|======\n",
        "| Myth (don't need) | Truth\n",
        "| Lots of math | Just high school math is sufficient\n",
        "| Lots of data | We've seen record-breaking results with <50 items of data\n",
        "| Lots of expensive computers | You can get what you need for state of the art work for free\n",
        "|======\n",
        "```\n",
        "\n",
        "Deep learning is a computer technique to extract and transform data–-with use cases ranging from human speech recognition to animal imagery classification–-by using multiple layers of neural networks. Each of these layers takes its inputs from previous layers and progressively refines them. The layers are trained by algorithms that minimize their errors and improve their accuracy. In this way, the network learns to perform a specified task. We will discuss training algorithms in detail in the next section."
      ]
    },
    {
      "cell_type": "markdown",
      "metadata": {
        "id": "NL7GEcp2MPSq"
      },
      "source": [
        "Deep learning has power, flexibility, and simplicity. That's why we believe it should be applied across many disciplines. These include the social and physical sciences, the arts, medicine, finance, scientific research, and many more. To give a personal example, despite having no background in medicine, Jeremy started Enlitic, a company that uses deep learning algorithms to diagnose illness and disease. Within months of starting the company, it was announced that its algorithm could identify malignant tumors [more accurately than radiologists](https://www.nytimes.com/2016/02/29/technology/the-promise-of-artificial-intelligence-unfolds-in-small-steps.html).\n",
        "\n",
        "Here's a list of some of the thousands of tasks in different areas at which deep learning, or methods heavily using deep learning, is now the best in the world:\n",
        "\n",
        "- Natural language processing (NLP):: Answering questions; speech recognition; summarizing documents; classifying documents; finding names, dates, etc. in documents; searching for articles mentioning a concept\n",
        "- Computer vision:: Satellite and drone imagery interpretation (e.g., for disaster resilience); face recognition; image captioning; reading traffic signs; locating pedestrians and vehicles in autonomous vehicles\n",
        "- Medicine:: Finding anomalies in radiology images, including CT, MRI, and X-ray images; counting features in pathology slides; measuring features in ultrasounds; diagnosing diabetic retinopathy\n",
        "- Biology:: Folding proteins; classifying proteins; many genomics tasks, such as tumor-normal sequencing and classifying clinically actionable genetic mutations; cell classification; analyzing protein/protein interactions\n",
        "- Image generation:: Colorizing images; increasing image resolution; removing noise from images; converting images to art in the style of famous artists\n",
        "- Recommendation systems:: Web search; product recommendations; home page layout\n",
        "- Playing games:: Chess, Go, most Atari video games, and many real-time strategy games\n",
        "- Robotics:: Handling objects that are challenging to locate (e.g., transparent, shiny, lacking texture) or hard to pick up\n",
        "- Other applications:: Financial and logistical forecasting, text to speech, and much more..."
      ]
    },
    {
      "cell_type": "markdown",
      "metadata": {
        "id": "Yw9phMXgMPSq"
      },
      "source": [
        "What is remarkable is that deep learning has such varied application yet nearly all of deep learning is based on a single type of model, the neural network.\n",
        "\n",
        "But neural networks are not in fact completely new. In order to have a wider perspective on the field, it is worth it to start with a bit of history."
      ]
    },
    {
      "cell_type": "markdown",
      "metadata": {
        "id": "hdfR-NLxMPSq"
      },
      "source": [
        "## Neural Networks: A Brief History"
      ]
    },
    {
      "cell_type": "markdown",
      "metadata": {
        "id": "wfE6oGVaMPSr"
      },
      "source": [
        "In 1943 Warren McCulloch, a neurophysiologist, and Walter Pitts, a logician, teamed up to develop a mathematical model of an artificial neuron. In their [paper](https://link.springer.com/article/10.1007/BF02478259) \"A Logical Calculus of the Ideas Immanent in Nervous Activity\" they declared that:\n",
        "\n",
        "> : Because of the “all-or-none” character of nervous activity, neural events and the relations among them can be treated by means of propositional logic. It is found that the behavior of every net can be described in these terms."
      ]
    },
    {
      "cell_type": "markdown",
      "metadata": {
        "id": "kElj5LdkMPSr"
      },
      "source": [
        "McCulloch and Pitts realized that a simplified model of a real neuron could be represented using simple addition and thresholding, as shown in <<neuron>>. Pitts was self-taught, and by age 12, had received an offer to study at Cambridge University with the great Bertrand Russell. He did not take up this invitation, and indeed throughout his life did not accept any offers of advanced degrees or positions of authority. Most of his famous work was done while he was homeless. Despite his lack of an officially recognized position and increasing social isolation, his work with McCulloch was influential, and was taken up by a psychologist named Frank Rosenblatt."
      ]
    },
    {
      "cell_type": "markdown",
      "metadata": {
        "id": "_JlmalBtMPSr"
      },
      "source": [
        "<img alt=\"Natural and artificial neurons\" width=\"500\" caption=\"Natural and artificial neurons\" src=\"https://github.com/fastai/fastbook/blob/master/images/chapter7_neuron.png?raw=1\" id=\"neuron\"/>"
      ]
    },
    {
      "cell_type": "markdown",
      "metadata": {
        "id": "_xbBmdmhMPSr"
      },
      "source": [
        "Rosenblatt further developed the artificial neuron to give it the ability to learn. Even more importantly, he worked on building the first device that actually used these principles, the Mark I Perceptron. In \"The Design of an Intelligent Automaton\" Rosenblatt wrote about this work: \"We are now about to witness the birth of such a machine–-a machine capable of perceiving, recognizing and identifying its surroundings without any human training or control.\" The perceptron was built, and was able to successfully recognize simple shapes.\n",
        "\n",
        "An MIT professor named Marvin Minsky (who was a grade behind Rosenblatt at the same high school!), along with Seymour Papert, wrote a book called _Perceptrons_ (MIT Press), about Rosenblatt's invention. They showed that a single layer of these devices was unable to learn some simple but critical mathematical functions (such as XOR). In the same book, they also showed that using multiple layers of the devices would allow these limitations to be addressed. Unfortunately, only the first of these insights was widely recognized. As a result, the global academic community nearly entirely gave up on neural networks for the next two decades."
      ]
    },
    {
      "cell_type": "markdown",
      "metadata": {
        "id": "CWg9knIOMPSr"
      },
      "source": [
        "Perhaps the most pivotal work in neural networks in the last 50 years was the multi-volume *Parallel Distributed Processing* (PDP) by David Rumelhart, James McClellan, and the PDP Research Group, released in 1986 by MIT Press. Chapter 1 lays out a similar hope to that shown by Rosenblatt:\n",
        "\n",
        "> : People are smarter than today's computers because the brain employs a basic computational architecture that is more suited to deal with a central aspect of the natural information processing tasks that people are so good at. ...We will introduce a computational framework for modeling cognitive processes that seems… closer than other frameworks to the style of computation as it might be done by the brain.\n",
        "\n",
        "The premise that PDP is using here is that traditional computer programs work very differently to brains, and that might be why computer programs had been (at that point) so bad at doing things that brains find easy (such as recognizing objects in pictures). The authors claimed that the PDP approach was \"closer\n",
        "than other frameworks\" to how the brain works, and therefore it might be better able to handle these kinds of tasks.\n",
        "\n",
        "In fact, the approach laid out in PDP is very similar to the approach used in today's neural networks. The book defined parallel distributed processing as requiring:\n",
        "\n",
        "1. A set of *processing units*\n",
        "1. A *state of activation*\n",
        "1. An *output function* for each unit\n",
        "1. A *pattern of connectivity* among units\n",
        "1. A *propagation rule* for propagating patterns of activities through the network of connectivities\n",
        "1. An *activation rule* for combining the inputs impinging on a unit with the current state of that unit to produce an output for the unit\n",
        "1. A *learning rule* whereby patterns of connectivity are modified by experience\n",
        "1. An *environment* within which the system must operate\n",
        "\n",
        "We will see in this book that modern neural networks handle each of these requirements.\n",
        "\n",
        "In the 1980's most models were built with a second layer of neurons, thus avoiding the problem that had been identified by Minsky and Papert (this was their \"pattern of connectivity among units,\" to use the framework above). And indeed, neural networks were widely used during the '80s and '90s for real, practical projects. However, again a misunderstanding of the theoretical issues held back the field. In theory, adding just one extra layer of neurons was enough to allow any mathematical function to be approximated with these neural networks, but in practice such networks were often too big and too slow to be useful.\n",
        "\n",
        "Although researchers showed 30 years ago that to get practical good performance you need to use even more layers of neurons, it is only in the last decade that this principle has been more widely appreciated and applied. Neural networks are now finally living up to their potential, thanks to the use of more layers, coupled with the capacity to do so due to improvements in computer hardware, increases in data availability, and algorithmic tweaks that allow neural networks to be trained faster and more easily. We now have what Rosenblatt promised: \"a machine capable of perceiving, recognizing, and identifying its surroundings without any human training or control.\"\n",
        "\n",
        "This is what you will learn how to build in this book. But first, since we are going to be spending a lot of time together, let's get to know each other a bit…"
      ]
    },
    {
      "cell_type": "markdown",
      "metadata": {
        "id": "g1_USlFNMPSs"
      },
      "source": [
        "## Who We Are"
      ]
    },
    {
      "cell_type": "markdown",
      "metadata": {
        "id": "1uYhTeiNMPSs"
      },
      "source": [
        "We are Sylvain and Jeremy, your guides on this journey. We hope that you will find us well suited for this position.\n",
        "\n",
        "Jeremy has been using and teaching machine learning for around 30 years. He started using neural networks 25 years ago. During this time, he has led many companies and projects that have machine learning at their core, including founding the first company to focus on deep learning and medicine, Enlitic, and taking on the role of President and Chief Scientist of the world's largest machine learning community, Kaggle. He is the co-founder, along with Dr. Rachel Thomas, of fast.ai, the organization that built the course this book is based on.\n",
        "\n",
        "From time to time you will hear directly from us, in sidebars like this one from Jeremy:"
      ]
    },
    {
      "cell_type": "markdown",
      "metadata": {
        "id": "7DN-2_2DMPSs"
      },
      "source": [
        "> J: Hi everybody, I'm Jeremy! You might be interested to know that I do not have any formal technical education. I completed a BA, with a major in philosophy, and didn't have great grades. I was much more interested in doing real projects, rather than theoretical studies, so I worked full time at a management consulting firm called McKinsey and Company throughout my university years. If you're somebody who would rather get their hands dirty building stuff than spend years learning abstract concepts, then you will understand where I am coming from! Look out for sidebars from me to find information most suited to people with a less mathematical or formal technical background—that is, people like me…"
      ]
    },
    {
      "cell_type": "markdown",
      "metadata": {
        "id": "bZfX-iLVMPSs"
      },
      "source": [
        "Sylvain, on the other hand, knows a lot about formal technical education. In fact, he has written 10 math textbooks, covering the entire advanced French maths curriculum!"
      ]
    },
    {
      "cell_type": "markdown",
      "metadata": {
        "id": "gT2JuMKyMPSt"
      },
      "source": [
        "> S: Unlike Jeremy, I have not spent many years coding and applying machine learning algorithms. Rather, I recently came to the machine learning world, by watching Jeremy's fast.ai course videos. So, if you are somebody who has not opened a terminal and written commands at the command line, then you will understand where I am coming from! Look out for sidebars from me to find information most suited to people with a more mathematical or formal technical background, but less real-world coding experience—that is, people like me…"
      ]
    },
    {
      "cell_type": "markdown",
      "metadata": {
        "id": "VRC0s5HpMPSt"
      },
      "source": [
        "The fast.ai course has been studied by hundreds of thousands of students, from all walks of life, from all parts of the world. Sylvain stood out as the most impressive student of the course that Jeremy had ever seen, which led to him joining fast.ai, and then becoming the coauthor, along with Jeremy, of the fastai software library.\n",
        "\n",
        "All this means that between us you have the best of both worlds: the people who know more about the software than anybody else, because they wrote it; an expert on math, and an expert on coding and machine learning; and also people who understand both what it feels like to be a relative outsider in math, and a relative outsider in coding and machine learning.\n",
        "\n",
        "Anybody who has watched sports knows that if you have a two-person commentary team then you also need a third person to do \"special comments.\" Our special commentator is Alexis Gallagher. Alexis has a very diverse background: he has been a researcher in mathematical biology, a screenplay writer, an improv performer, a McKinsey consultant (like Jeremy!), a Swift coder, and a CTO."
      ]
    },
    {
      "cell_type": "markdown",
      "metadata": {
        "id": "7NRehsGiMPSt"
      },
      "source": [
        "> A: I've decided it's time for me to learn about this AI stuff! After all, I've tried pretty much everything else… But I don't really have a background in building machine learning models. Still… how hard can it be? I'm going to be learning throughout this book, just like you are. Look out for my sidebars for learning tips that I found helpful on my journey, and hopefully you will find helpful too."
      ]
    },
    {
      "cell_type": "markdown",
      "metadata": {
        "id": "C3asbXe_MPSt"
      },
      "source": [
        "## How to Learn Deep Learning"
      ]
    },
    {
      "cell_type": "markdown",
      "metadata": {
        "id": "ity_CI-pMPSt"
      },
      "source": [
        "Harvard professor David Perkins, who wrote _Making Learning Whole_ (Jossey-Bass), has much to say about teaching. The basic idea is to teach the *whole game*. That means that if you're teaching baseball, you first take people to a baseball game or get them to play it. You don't teach them how to wind twine to make a baseball from scratch, the physics of a parabola, or the coefficient of friction of a ball on a bat.\n",
        "\n",
        "Paul Lockhart, a Columbia math PhD, former Brown professor, and K-12 math teacher, imagines in the influential [essay](https://www.maa.org/external_archive/devlin/LockhartsLament.pdf) \"A Mathematician's Lament\" a nightmare world where music and art are taught the way math is taught. Children are not allowed to listen to or play music until they have spent over a decade mastering music notation and theory, spending classes transposing sheet music into a different key. In art class, students study colors and applicators, but aren't allowed to actually paint until college. Sound absurd? This is how math is taught–-we require students to spend years doing rote memorization and learning dry, disconnected *fundamentals* that we claim will pay off later, long after most of them quit the subject.\n",
        "\n",
        "Unfortunately, this is where many teaching resources on deep learning begin–-asking learners to follow along with the definition of the Hessian and theorems for the Taylor approximation of your loss functions, without ever giving examples of actual working code. We're not knocking calculus. We love calculus, and Sylvain has even taught it at the college level, but we don't think it's the best place to start when learning deep learning!\n",
        "\n",
        "In deep learning, it really helps if you have the motivation to fix your model to get it to do better. That's when you start learning the relevant theory. But you need to have the model in the first place. We teach almost everything through real examples. As we build out those examples, we go deeper and deeper, and we'll show you how to make your projects better and better. This means that you'll be gradually learning all the theoretical foundations you need, in context, in such a way that you'll see why it matters and how it works.\n",
        "\n",
        "So, here's our commitment to you. Throughout this book, we will follow these principles:\n",
        "\n",
        "- Teaching the *whole game*. We'll start by showing how to use a complete, working, very usable, state-of-the-art deep learning network to solve real-world problems, using simple, expressive tools. And then we'll gradually dig deeper and deeper into understanding how those tools are made, and how the tools that make those tools are made, and so on…\n",
        "- Always teaching through examples. We'll ensure that there is a context and a purpose that you can understand intuitively, rather than starting with algebraic symbol manipulation.\n",
        "- Simplifying as much as possible. We've spent years building tools and teaching methods that make previously complex topics very simple.\n",
        "- Removing barriers. Deep learning has, until now, been a very exclusive game. We're breaking it open, and ensuring that everyone can play."
      ]
    },
    {
      "cell_type": "markdown",
      "metadata": {
        "id": "3HD33qqoMPSu"
      },
      "source": [
        "The hardest part of deep learning is artisanal: how do you know if you've got enough data, whether it is in the right format, if your model is training properly, and, if it's not, what you should do about it? That is why we believe in learning by doing. As with basic data science skills, with deep learning you only get better through practical experience. Trying to spend too much time on the theory can be counterproductive. The key is to just code and try to solve problems: the theory can come later, when you have context and motivation.\n",
        "\n",
        "There will be times when the journey will feel hard. Times where you feel stuck. Don't give up! Rewind through the book to find the last bit where you definitely weren't stuck, and then read slowly through from there to find the first thing that isn't clear. Then try some code experiments yourself, and Google around for more tutorials on whatever the issue you're stuck with is—often you'll find some different angle on the material might help it to click. Also, it's expected and normal to not understand everything (especially the code) on first reading. Trying to understand the material serially before proceeding can sometimes be hard. Sometimes things click into place after you get more context from parts down the road, from having a bigger picture. So if you do get stuck on a section, try moving on anyway and make a note to come back to it later.\n",
        "\n",
        "Remember, you don't need any particular academic background to succeed at deep learning. Many important breakthroughs are made in research and industry by folks without a PhD, such as [\"Unsupervised Representation Learning with Deep Convolutional Generative Adversarial Networks\"](https://arxiv.org/abs/1511.06434)—one of the most influential papers of the last decade—with over 5,000 citations, which was written by Alec Radford when he was an undergraduate. Even at Tesla, where they're trying to solve the extremely tough challenge of making a self-driving car, CEO [Elon Musk says](https://twitter.com/elonmusk/status/1224089444963311616):\n",
        "\n",
        "> : A PhD is definitely not required. All that matters is a deep understanding of AI & ability to implement NNs in a way that is actually useful (latter point is what’s truly hard). Don’t care if you even graduated high school."
      ]
    },
    {
      "cell_type": "markdown",
      "metadata": {
        "id": "4DJAZyEpMPSu"
      },
      "source": [
        "What you will need to do to succeed however is to apply what you learn in this book to a personal project, and always persevere."
      ]
    },
    {
      "cell_type": "markdown",
      "metadata": {
        "id": "yH2csO-QMPSu"
      },
      "source": [
        "### Your Projects and Your Mindset"
      ]
    },
    {
      "cell_type": "markdown",
      "metadata": {
        "id": "37TqWsJjMPSu"
      },
      "source": [
        "Whether you're excited to identify if plants are diseased from pictures of their leaves, auto-generate knitting patterns, diagnose TB from X-rays, or determine when a raccoon is using your cat door, we will get you using deep learning on your own problems (via pre-trained models from others) as quickly as possible, and then will progressively drill into more details. You'll learn how to use deep learning to solve your own problems at state-of-the-art accuracy within the first 30 minutes of the next chapter! (And feel free to skip straight there now if you're dying to get coding right away.) There is a pernicious myth out there that you need to have computing resources and datasets the size of those at Google to be able to do deep learning, but it's not true.\n",
        "\n",
        "So, what sorts of tasks make for good test cases? You could train your model to distinguish between Picasso and Monet paintings or to pick out pictures of your daughter instead of pictures of your son. It helps to focus on your hobbies and passions–-setting yourself four or five little projects rather than striving to solve a big, grand problem tends to work better when you're getting started. Since it is easy to get stuck, trying to be too ambitious too early can often backfire. Then, once you've got the basics mastered, aim to complete something you're really proud of!"
      ]
    },
    {
      "cell_type": "markdown",
      "metadata": {
        "id": "KAd0LlTIMPSu"
      },
      "source": [
        "> J: Deep learning can be set to work on almost any problem. For instance, my first startup was a company called FastMail, which provided enhanced email services when it launched in 1999 (and still does to this day). In 2002 I set it up to use a primitive form of deep learning, single-layer neural networks, to help categorize emails and stop customers from receiving spam."
      ]
    },
    {
      "cell_type": "markdown",
      "metadata": {
        "id": "WEBsFTUXMPSv"
      },
      "source": [
        "Common character traits in the people that do well at deep learning include playfulness and curiosity. The late physicist Richard Feynman is an example of someone who we'd expect to be great at deep learning: his development of an understanding of the movement of subatomic particles came from his amusement at how plates wobble when they spin in the air."
      ]
    },
    {
      "cell_type": "markdown",
      "metadata": {
        "id": "pZ63mdZ6MPSv"
      },
      "source": [
        "Let's now focus on what you will learn, starting with the software."
      ]
    },
    {
      "cell_type": "markdown",
      "metadata": {
        "id": "42xgYXcUMPSv"
      },
      "source": [
        "## The Software: PyTorch, fastai, and Jupyter"
      ]
    },
    {
      "cell_type": "markdown",
      "metadata": {
        "id": "EkrCF561MPSv"
      },
      "source": [
        "(And Why It Doesn't Matter)"
      ]
    },
    {
      "cell_type": "markdown",
      "metadata": {
        "id": "OdSNCN44MPSv"
      },
      "source": [
        "We've completed hundreds of machine learning projects using dozens of different packages, and many different programming languages. At fast.ai, we have written courses using most of the main deep learning and machine learning packages used today. After PyTorch came out in 2017 we spent over a thousand hours testing it before deciding that we would use it for future courses, software development, and research. Since that time PyTorch has become the world's fastest-growing deep learning library and is already used for most research papers at top conferences. This is generally a leading indicator of usage in industry, because these are the papers that end up getting used in products and services commercially. We have found that PyTorch is the most flexible and expressive library for deep learning. It does not trade off speed for simplicity, but provides both.\n",
        "\n",
        "PyTorch works best as a low-level foundation library, providing the basic operations for higher-level functionality. The fastai library is the most popular library for adding this higher-level functionality on top of PyTorch. It's also particularly well suited to the purposes of this book, because it is unique in providing a deeply layered software architecture (there's even a [peer-reviewed academic paper](https://arxiv.org/abs/2002.04688) about this layered API). In this book, as we go deeper and deeper into the foundations of deep learning, we will also go deeper and deeper into the layers of fastai. This book covers version 2 of the fastai library, which is a from-scratch rewrite providing many unique features."
      ]
    },
    {
      "cell_type": "markdown",
      "metadata": {
        "id": "mwR7cOm0MPSw"
      },
      "source": [
        "However, it doesn't really matter what software you learn, because it takes only a few days to learn to switch from one library to another. What really matters is learning the deep learning foundations and techniques properly. Our focus will be on using code that clearly expresses the concepts that you need to learn. Where we are teaching high-level concepts, we will use high-level fastai code. Where we are teaching low-level concepts, we will use low-level PyTorch, or even pure Python code.\n",
        "\n",
        "If it feels like new deep learning libraries are appearing at a rapid pace nowadays, then you need to be prepared for a much faster rate of change in the coming months and years. As more people enter the field, they will bring more skills and ideas, and try more things. You should assume that whatever specific libraries and software you learn today will be obsolete in a year or two. Just think about the number of changes in libraries and technology stacks that occur all the time in the world of web programming—a much more mature and slow-growing area than deep learning. We strongly believe that the focus in learning needs to be on understanding the underlying techniques and how to apply them in practice, and how to quickly build expertise in new tools and techniques as they are released."
      ]
    },
    {
      "cell_type": "markdown",
      "metadata": {
        "id": "UxjLwXyjMPSw"
      },
      "source": [
        "By the end of the book, you'll understand nearly all the code that's inside fastai (and much of PyTorch too), because in each chapter we'll be digging a level deeper to show you exactly what's going on as we build and train our models. This means that you'll have learned the most important best practices used in modern deep learning—not just how to use them, but how they really work and are implemented. If you want to use those approaches in another framework, you'll have the knowledge you need to do so if needed.\n",
        "\n",
        "Since the most important thing for learning deep learning is writing code and experimenting, it's important that you have a great platform for experimenting with code. The most popular programming experimentation platform is called Jupyter. This is what we will be using throughout this book. We will show you how you can use Jupyter to train and experiment with models and introspect every stage of the data pre-processing and model development pipeline. [Jupyter Notebook](https://jupyter.org/) is the most popular tool for doing data science in Python, for good reason. It is powerful, flexible, and easy to use. We think you will love it!"
      ]
    },
    {
      "cell_type": "markdown",
      "metadata": {
        "id": "NSaIyxYkMPSw"
      },
      "source": [
        "Let's see it in practice and train our first model."
      ]
    },
    {
      "cell_type": "markdown",
      "metadata": {
        "id": "2WVnA9zOMPSx"
      },
      "source": [
        "## Your First Model"
      ]
    },
    {
      "cell_type": "markdown",
      "metadata": {
        "id": "lOg-m-DfMPSx"
      },
      "source": [
        "As we said before, we will teach you how to do things before we explain why they work. Following this top-down approach, we will begin by actually training an image classifier to recognize dogs and cats with almost 100% accuracy. To train this model and run our experiments, you will need to do some initial setup. Don't worry, it's not as hard as it looks."
      ]
    },
    {
      "cell_type": "markdown",
      "metadata": {
        "id": "0_elEFfMMPSx"
      },
      "source": [
        "> s: Do not skip the setup part even if it looks intimidating at first, especially if you have little or no experience using things like a terminal or the command line. Most of that is actually not necessary and you will find that the easiest servers can be set up with just your usual web browser. It is crucial that you run your own experiments in parallel with this book in order to learn."
      ]
    },
    {
      "cell_type": "markdown",
      "metadata": {
        "id": "gCQZWO74MPSy"
      },
      "source": [
        "### Getting a GPU Deep Learning Server"
      ]
    },
    {
      "cell_type": "markdown",
      "metadata": {
        "id": "CDnZvlzrMPSy"
      },
      "source": [
        "To do nearly everything in this book, you'll need access to a computer with an NVIDIA GPU (unfortunately other brands of GPU are not fully supported by the main deep learning libraries). However, we don't recommend you buy one; in fact, even if you already have one, we don't suggest you use it just yet! Setting up a computer takes time and energy, and you want all your energy to focus on deep learning right now. Therefore, we instead suggest you rent access to a computer that already has everything you need preinstalled and ready to go. Costs can be as little as US$0.25 per hour while you're using it, and some options are even free."
      ]
    },
    {
      "cell_type": "markdown",
      "metadata": {
        "id": "4qYPXiyyMPSy"
      },
      "source": [
        "> jargon: Graphics Processing Unit (GPU): Also known as a _graphics card_. A special kind of processor in your computer that can handle thousands of single tasks at the same time, especially designed for displaying 3D environments on a computer for playing games. These same basic tasks are very similar to what neural networks do, such that GPUs can run neural networks hundreds of times faster than regular CPUs. All modern computers contain a GPU, but few contain the right kind of GPU necessary for deep learning."
      ]
    },
    {
      "cell_type": "markdown",
      "metadata": {
        "id": "BRKD7ZuzMPSz"
      },
      "source": [
        "The best choice of GPU servers to use with this book will change over time, as companies come and go and prices change. We maintain a list of our recommended options on the [book's website](https://book.fast.ai/), so go there now and follow the instructions to get connected to a GPU deep learning server. Don't worry, it only takes about two minutes to get set up on most platforms, and many don't even require any payment, or even a credit card, to get started.\n",
        "\n",
        "> A: My two cents: heed this advice! If you like computers you will be tempted to set up your own box. Beware! It is feasible but surprisingly involved and distracting. There is a good reason this book is not titled, _Everything You Ever Wanted to Know About Ubuntu System Administration, NVIDIA Driver Installation, apt-get, conda, pip, and Jupyter Notebook Configuration_. That would be a book of its own. Having designed and deployed our production machine learning infrastructure at work, I can testify it has its satisfactions, but it is as unrelated to modeling as maintaining an airplane is to flying one.\n",
        "\n",
        "Each option shown on the website includes a tutorial; after completing the tutorial, you will end up with a screen looking like <<notebook_init>>."
      ]
    },
    {
      "cell_type": "markdown",
      "metadata": {
        "id": "ggNXs0IhMPSz"
      },
      "source": [
        "<img alt=\"Initial view of Jupyter Notebook\" width=\"658\" caption=\"Initial view of Jupyter Notebook\" id=\"notebook_init\" src=\"https://github.com/fastai/fastbook/blob/master/images/att_00057.png?raw=1\">"
      ]
    },
    {
      "cell_type": "markdown",
      "metadata": {
        "id": "fhud09w2MPSz"
      },
      "source": [
        "You are now ready to run your first Jupyter notebook!"
      ]
    },
    {
      "cell_type": "markdown",
      "metadata": {
        "id": "rSPWMbjIMPS0"
      },
      "source": [
        "> jargon: Jupyter Notebook: A piece of software that allows you to include formatted text, code, images, videos, and much more, all within a single interactive document. Jupyter received the highest honor for software, the ACM Software System Award, thanks to its wide use and enormous impact in many academic fields and in industry. Jupyter Notebook is the software most widely used by data scientists for developing and interacting with deep learning models."
      ]
    },
    {
      "cell_type": "markdown",
      "metadata": {
        "id": "yWAZQp0WMPS1"
      },
      "source": [
        "### Running Your First Notebook"
      ]
    },
    {
      "cell_type": "markdown",
      "metadata": {
        "id": "GgfFQpVyMPS2"
      },
      "source": [
        "The notebooks are labeled by chapter and then by notebook number, so that they are in the same order as they are presented in this book. So, the very first notebook you will see listed is the notebook that you need to use now. You will be using this notebook to train a model that can recognize dog and cat photos. To do this, you'll be downloading a _dataset_ of dog and cat photos, and using that to _train a model_. A dataset is simply a bunch of data—it could be images, emails, financial indicators, sounds, or anything else. There are many datasets made freely available that are suitable for training models. Many of these datasets are created by academics to help advance research, many are made available for competitions (there are competitions where data scientists can compete to see who has the most accurate model!), and some are by-products of other processes (such as financial filings)."
      ]
    },
    {
      "cell_type": "markdown",
      "metadata": {
        "id": "9fYQNWQpMPS2"
      },
      "source": [
        "> note: Full and Stripped Notebooks: There are two folders containing different versions of the notebooks. The _full_ folder contains the exact notebooks used to create the book you're reading now, with all the prose and outputs. The _stripped_ version has the same headings and code cells, but all outputs and prose have been removed. After reading a section of the book, we recommend working through the stripped notebooks, with the book closed, and seeing if you can figure out what each cell will show before you execute it. Also try to recall what the code is demonstrating."
      ]
    },
    {
      "cell_type": "markdown",
      "metadata": {
        "id": "Nx6VZ4R4MPS3"
      },
      "source": [
        "To open a notebook, just click on it. The notebook will open, and it will look something like <<jupyter>> (note that there may be slight differences in details across different platforms; you can ignore those differences)."
      ]
    },
    {
      "cell_type": "markdown",
      "metadata": {
        "id": "GSP-v0HhMPS3"
      },
      "source": [
        "<img alt=\"An example of notebook\" width=\"700\" caption=\"A Jupyter notebook\" src=\"https://github.com/fastai/fastbook/blob/master/images/0_jupyter.png?raw=1\" id=\"jupyter\"/>"
      ]
    },
    {
      "cell_type": "markdown",
      "metadata": {
        "id": "ZuSJtCTzMPS3"
      },
      "source": [
        "A notebook consists of _cells_. There are two main types of cell:\n",
        "\n",
        "- Cells containing formatted text, images, and so forth. These use a format called *markdown*, which you will learn about soon.\n",
        "- Cells containing code that can be executed, and outputs will appear immediately underneath (which could be plain text, tables, images, animations, sounds, or even interactive applications).\n",
        "\n",
        "Jupyter notebooks can be in one of two modes: edit mode or command mode. In edit mode typing on your keyboard enters the letters into the cell in the usual way. However, in command mode, you will not see any flashing cursor, and the keys on your keyboard will each have a special function.\n",
        "\n",
        "Before continuing, press the Escape key on your keyboard to switch to command mode (if you are already in command mode, this does nothing, so press it now just in case). To see a complete list of all of the functions available, press H; press Escape to remove this help screen. Notice that in command mode, unlike most programs, commands do not require you to hold down Control, Alt, or similar—you simply press the required letter key.\n",
        "\n",
        "You can make a copy of a cell by pressing C (the cell needs to be selected first, indicated with an outline around it; if it is not already selected, click on it once). Then press V to paste a copy of it."
      ]
    },
    {
      "cell_type": "markdown",
      "metadata": {
        "id": "hjg6aDfRMPS3"
      },
      "source": [
        "Click on the cell that begins with the line \"# CLICK ME\" to select it. The first character in that line indicates that what follows is a comment in Python, so it is ignored when executing the cell. The rest of the cell is, believe it or not, a complete system for creating and training a state-of-the-art model for recognizing cats versus dogs. So, let's train it now! To do so, just press Shift-Enter on your keyboard, or press the Play button on the toolbar. Then wait a few minutes while the following things happen:\n",
        "\n",
        "1. A dataset called the [Oxford-IIIT Pet Dataset](http://www.robots.ox.ac.uk/~vgg/data/pets/) that contains 7,349 images of cats and dogs from 37 different breeds will be downloaded from the fast.ai datasets collection to the GPU server you are using, and will then be extracted.\n",
        "2. A *pretrained model* that has already been trained on 1.3 million images, using a competition-winning model will be downloaded from the internet.\n",
        "3. The pretrained model will be *fine-tuned* using the latest advances in transfer learning, to create a model that is specially customized for recognizing dogs and cats.\n",
        "\n",
        "The first two steps only need to be run once on your GPU server. If you run the cell again, it will use the dataset and model that have already been downloaded, rather than downloading them again. Let's take a look at the contents of the cell, and the results (<<first_training>>):"
      ]
    },
    {
      "cell_type": "code",
      "execution_count": 11,
      "metadata": {
        "id": "uJqZ4acRMPS4",
        "outputId": "85e0018f-f09c-4bd2-8e5e-8ee9315ac317",
        "colab": {
          "base_uri": "https://localhost:8080/",
          "height": 143
        }
      },
      "outputs": [
        {
          "output_type": "display_data",
          "data": {
            "text/plain": [
              "<IPython.core.display.HTML object>"
            ],
            "text/html": [
              "\n",
              "<style>\n",
              "    /* Turns off some styling */\n",
              "    progress {\n",
              "        /* gets rid of default border in Firefox and Opera. */\n",
              "        border: none;\n",
              "        /* Needs to be in here for Safari polyfill so background images work as expected. */\n",
              "        background-size: auto;\n",
              "    }\n",
              "    progress:not([value]), progress:not([value])::-webkit-progress-bar {\n",
              "        background: repeating-linear-gradient(45deg, #7e7e7e, #7e7e7e 10px, #5c5c5c 10px, #5c5c5c 20px);\n",
              "    }\n",
              "    .progress-bar-interrupted, .progress-bar-interrupted::-webkit-progress-bar {\n",
              "        background: #F44336;\n",
              "    }\n",
              "</style>\n"
            ]
          },
          "metadata": {}
        },
        {
          "output_type": "display_data",
          "data": {
            "text/plain": [
              "<IPython.core.display.HTML object>"
            ],
            "text/html": [
              "<table border=\"1\" class=\"dataframe\">\n",
              "  <thead>\n",
              "    <tr style=\"text-align: left;\">\n",
              "      <th>epoch</th>\n",
              "      <th>train_loss</th>\n",
              "      <th>valid_loss</th>\n",
              "      <th>error_rate</th>\n",
              "      <th>time</th>\n",
              "    </tr>\n",
              "  </thead>\n",
              "  <tbody>\n",
              "    <tr>\n",
              "      <td>0</td>\n",
              "      <td>0.190573</td>\n",
              "      <td>0.042388</td>\n",
              "      <td>0.010149</td>\n",
              "      <td>00:44</td>\n",
              "    </tr>\n",
              "  </tbody>\n",
              "</table>"
            ]
          },
          "metadata": {}
        },
        {
          "output_type": "display_data",
          "data": {
            "text/plain": [
              "<IPython.core.display.HTML object>"
            ],
            "text/html": [
              "\n",
              "<style>\n",
              "    /* Turns off some styling */\n",
              "    progress {\n",
              "        /* gets rid of default border in Firefox and Opera. */\n",
              "        border: none;\n",
              "        /* Needs to be in here for Safari polyfill so background images work as expected. */\n",
              "        background-size: auto;\n",
              "    }\n",
              "    progress:not([value]), progress:not([value])::-webkit-progress-bar {\n",
              "        background: repeating-linear-gradient(45deg, #7e7e7e, #7e7e7e 10px, #5c5c5c 10px, #5c5c5c 20px);\n",
              "    }\n",
              "    .progress-bar-interrupted, .progress-bar-interrupted::-webkit-progress-bar {\n",
              "        background: #F44336;\n",
              "    }\n",
              "</style>\n"
            ]
          },
          "metadata": {}
        },
        {
          "output_type": "display_data",
          "data": {
            "text/plain": [
              "<IPython.core.display.HTML object>"
            ],
            "text/html": [
              "<table border=\"1\" class=\"dataframe\">\n",
              "  <thead>\n",
              "    <tr style=\"text-align: left;\">\n",
              "      <th>epoch</th>\n",
              "      <th>train_loss</th>\n",
              "      <th>valid_loss</th>\n",
              "      <th>error_rate</th>\n",
              "      <th>time</th>\n",
              "    </tr>\n",
              "  </thead>\n",
              "  <tbody>\n",
              "    <tr>\n",
              "      <td>0</td>\n",
              "      <td>0.058106</td>\n",
              "      <td>0.020684</td>\n",
              "      <td>0.005413</td>\n",
              "      <td>00:48</td>\n",
              "    </tr>\n",
              "  </tbody>\n",
              "</table>"
            ]
          },
          "metadata": {}
        }
      ],
      "source": [
        "#id first_training\n",
        "#caption Results from the first training\n",
        "# CLICK ME\n",
        "from fastai.vision.all import *\n",
        "path = untar_data(URLs.PETS)/'images'\n",
        "\n",
        "def is_cat(x): return x[0].isupper()\n",
        "dls = ImageDataLoaders.from_name_func(\n",
        "    path, get_image_files(path), valid_pct=0.2, seed=42,\n",
        "    label_func=is_cat, item_tfms=Resize(224))\n",
        "\n",
        "learn = vision_learner(dls, resnet34, metrics=error_rate)\n",
        "learn.fine_tune(1)"
      ]
    },
    {
      "cell_type": "markdown",
      "metadata": {
        "id": "jKXKQ8TOMPS4"
      },
      "source": [
        "You will probably not see exactly the same results that are in the book. There are a lot of sources of small random variation involved in training models. We generally see an error rate of well less than 0.02 in this example, however."
      ]
    },
    {
      "cell_type": "markdown",
      "metadata": {
        "id": "m37eFbtYMPS5"
      },
      "source": [
        "> important: Training Time: Depending on your network speed, it might take a few minutes to download the pretrained model and dataset. Running `fine_tune` might take a minute or so. Often models in this book take a few minutes to train, as will your own models, so it's a good idea to come up with good techniques to make the most of this time. For instance, keep reading the next section while your model trains, or open up another notebook and use it for some coding experiments."
      ]
    },
    {
      "cell_type": "markdown",
      "metadata": {
        "id": "t6z19jvQMPS5"
      },
      "source": [
        "### Sidebar: This Book Was Written in Jupyter Notebooks"
      ]
    },
    {
      "cell_type": "markdown",
      "metadata": {
        "id": "v8kNIGWfMPS5"
      },
      "source": [
        "We wrote this book using Jupyter notebooks, so for nearly every chart, table, and calculation in this book, we'll be showing you the exact code required to replicate it yourself. That's why very often in this book, you will see some code immediately followed by a table, a picture or just some text. If you go on the [book's website](https://book.fast.ai) you will find all the code, and you can try running and modifying every example yourself."
      ]
    },
    {
      "cell_type": "markdown",
      "metadata": {
        "id": "BOVvDUclMPS5"
      },
      "source": [
        "You just saw how a cell that outputs a table looks inside the book. Here is an example of a cell that outputs text:"
      ]
    },
    {
      "cell_type": "code",
      "execution_count": 12,
      "metadata": {
        "id": "mYH0OnBvMPS5",
        "outputId": "478640dd-5f0e-4d92-dc23-61d06e0c6658",
        "colab": {
          "base_uri": "https://localhost:8080/"
        }
      },
      "outputs": [
        {
          "output_type": "execute_result",
          "data": {
            "text/plain": [
              "2"
            ]
          },
          "metadata": {},
          "execution_count": 12
        }
      ],
      "source": [
        "1+1"
      ]
    },
    {
      "cell_type": "markdown",
      "metadata": {
        "id": "MWJ7FbciMPS5"
      },
      "source": [
        "Jupyter will always print or show the result of the last line (if there is one). For instance, here is an example of a cell that outputs an image:"
      ]
    },
    {
      "cell_type": "code",
      "execution_count": 13,
      "metadata": {
        "id": "8GAbvvRkMPS5",
        "outputId": "e4bd88e2-f6be-432a-914e-7c2ff60d8096",
        "colab": {
          "base_uri": "https://localhost:8080/",
          "height": 209
        }
      },
      "outputs": [
        {
          "output_type": "execute_result",
          "data": {
            "text/plain": [
              "<PIL.Image.Image image mode=RGB size=151x192>"
            ],
            "image/png": "[encoded data removed]",
            "image/jpeg": "[encoded data removed]"
          },
          "metadata": {},
          "execution_count": 13
        }
      ],
      "source": [
        "img = PILImage.create(image_cat())\n",
        "img.to_thumb(192)"
      ]
    },
    {
      "cell_type": "markdown",
      "metadata": {
        "id": "N-SxEIqaMPS6"
      },
      "source": [
        "### End sidebar"
      ]
    },
    {
      "cell_type": "markdown",
      "metadata": {
        "id": "YJj6PxdBMPS6"
      },
      "source": [
        "So, how do we know if this model is any good? In the last column of the table you can see the error rate, which is the proportion of images that were incorrectly identified. The error rate serves as our metric—our measure of model quality, chosen to be intuitive and comprehensible. As you can see, the model is nearly perfect, even though the training time was only a few seconds (not including the one-time downloading of the dataset and the pretrained model). In fact, the accuracy you've achieved already is far better than anybody had ever achieved just 10 years ago!\n",
        "\n",
        "Finally, let's check that this model actually works. Go and get a photo of a dog, or a cat; if you don't have one handy, just search Google Images and download an image that you find there. Now execute the cell with `uploader` defined. It will output a button you can click, so you can select the image you want to classify:"
      ]
    },
    {
      "cell_type": "code",
      "execution_count": 14,
      "metadata": {
        "id": "VIK_m8nhMPS6",
        "outputId": "0d0487dc-1310-4ee6-bd20-a57c64fbb6e7",
        "colab": {
          "base_uri": "https://localhost:8080/",
          "height": 49,
          "referenced_widgets": [
            "b2320ccafb024b1f95f1cea177c96342",
            "68833d5c0a254a2b85aabdd1d7d679d3",
            "b43cdd9321e44761b807373bc0b9c658"
          ]
        }
      },
      "outputs": [
        {
          "output_type": "display_data",
          "data": {
            "text/plain": [
              "FileUpload(value={}, description='Upload')"
            ],
            "application/vnd.jupyter.widget-view+json": {
              "version_major": 2,
              "version_minor": 0,
              "model_id": "b2320ccafb024b1f95f1cea177c96342"
            }
          },
          "metadata": {}
        }
      ],
      "source": [
        "#hide_output\n",
        "uploader = widgets.FileUpload()\n",
        "uploader"
      ]
    },
    {
      "cell_type": "markdown",
      "metadata": {
        "id": "9vnvwUX9MPS6"
      },
      "source": [
        "<img alt=\"An upload button\" width=\"159\" id=\"upload\" src=\"https://github.com/fastai/fastbook/blob/master/images/att_00008.png?raw=1\">"
      ]
    },
    {
      "cell_type": "markdown",
      "metadata": {
        "id": "zfneT9psMPS6"
      },
      "source": [
        "Now you can pass the uploaded file to the model. Make sure that it is a clear photo of a single dog or a cat, and not a line drawing, cartoon, or similar. The notebook will tell you whether it thinks it is a dog or a cat, and how confident it is. Hopefully, you'll find that your model did a great job:"
      ]
    },
    {
      "cell_type": "code",
      "execution_count": 15,
      "metadata": {
        "hide_input": false,
        "id": "sJvCiY-2MPS6"
      },
      "outputs": [],
      "source": [
        "#hide\n",
        "# For the book, we can't actually click an upload button, so we fake it\n",
        "uploader = SimpleNamespace(data = ['/content/IMG_1937.jpeg'])"
      ]
    },
    {
      "cell_type": "code",
      "execution_count": 16,
      "metadata": {
        "id": "-weZqsJyMPS6",
        "outputId": "bb1e9986-0e4e-49cd-d019-11a6b58a0d3c",
        "colab": {
          "base_uri": "https://localhost:8080/",
          "height": 53
        }
      },
      "outputs": [
        {
          "output_type": "display_data",
          "data": {
            "text/plain": [
              "<IPython.core.display.HTML object>"
            ],
            "text/html": [
              "\n",
              "<style>\n",
              "    /* Turns off some styling */\n",
              "    progress {\n",
              "        /* gets rid of default border in Firefox and Opera. */\n",
              "        border: none;\n",
              "        /* Needs to be in here for Safari polyfill so background images work as expected. */\n",
              "        background-size: auto;\n",
              "    }\n",
              "    progress:not([value]), progress:not([value])::-webkit-progress-bar {\n",
              "        background: repeating-linear-gradient(45deg, #7e7e7e, #7e7e7e 10px, #5c5c5c 10px, #5c5c5c 20px);\n",
              "    }\n",
              "    .progress-bar-interrupted, .progress-bar-interrupted::-webkit-progress-bar {\n",
              "        background: #F44336;\n",
              "    }\n",
              "</style>\n"
            ]
          },
          "metadata": {}
        },
        {
          "output_type": "display_data",
          "data": {
            "text/plain": [
              "<IPython.core.display.HTML object>"
            ],
            "text/html": []
          },
          "metadata": {}
        },
        {
          "output_type": "stream",
          "name": "stdout",
          "text": [
            "Is this a cat?: True.\n",
            "Probability it's a cat: 1.000000\n"
          ]
        }
      ],
      "source": [
        "img = PILImage.create(uploader.data[0])\n",
        "is_cat,_,probs = learn.predict(img)\n",
        "print(f\"Is this a cat?: {is_cat}.\")\n",
        "print(f\"Probability it's a cat: {probs[1].item():.6f}\")"
      ]
    },
    {
      "cell_type": "markdown",
      "metadata": {
        "id": "Ur4D__a-MPS6"
      },
      "source": [
        "Congratulations on your first classifier!\n",
        "\n",
        "But what does this mean? What did you actually do? In order to explain this, let's zoom out again to take in the big picture."
      ]
    },
    {
      "cell_type": "markdown",
      "metadata": {
        "id": "ZEUR3gbmMPS6"
      },
      "source": [
        "### What Is Machine Learning?"
      ]
    },
    {
      "cell_type": "markdown",
      "metadata": {
        "id": "M1ru132CMPS6"
      },
      "source": [
        "Your classifier is a deep learning model. As was already mentioned, deep learning models use neural networks, which originally date from the 1950s and have become powerful very recently thanks to recent advancements.\n",
        "\n",
        "Another key piece of context is that deep learning is just a modern area in the more general discipline of *machine learning*. To understand the essence of what you did when you trained your own classification model, you don't need to understand deep learning. It is enough to see how your model and your training process are examples of the concepts that apply to machine learning in general.\n",
        "\n",
        "So in this section, we will describe what machine learning is. We will look at the key concepts, and show how they can be traced back to the original essay that introduced them.\n",
        "\n",
        "*Machine learning* is, like regular programming, a way to get computers to complete a specific task. But how would we use regular programming to do what we just did in the last section: recognize dogs versus cats in photos? We would have to write down for the computer the exact steps necessary to complete the task.\n",
        "\n",
        "Normally, it's easy enough for us to write down the steps to complete a task when we're writing a program. We just think about the steps we'd take if we had to do the task by hand, and then we translate them into code. For instance, we can write a function that sorts a list. In general, we'd write a function that looks something like <<basic_program>> (where *inputs* might be an unsorted list, and *results* a sorted list)."
      ]
    },
    {
      "cell_type": "code",
      "execution_count": 17,
      "metadata": {
        "hide_input": false,
        "id": "rAdS2bNVMPS7",
        "outputId": "984906d2-9408-492f-9fb4-5dc808854595",
        "colab": {
          "base_uri": "https://localhost:8080/",
          "height": 98
        }
      },
      "outputs": [
        {
          "output_type": "execute_result",
          "data": {
            "image/svg+xml": "<?xml version=\"1.0\" encoding=\"UTF-8\" standalone=\"no\"?>\n<!DOCTYPE svg PUBLIC \"-//W3C//DTD SVG 1.1//EN\"\n \"http://www.w3.org/Graphics/SVG/1.1/DTD/svg11.dtd\">\n<!-- Generated by graphviz version 2.43.0 (0)\n -->\n<!-- Title: G Pages: 1 -->\n<svg width=\"285pt\" height=\"58pt\"\n viewBox=\"0.00 0.00 284.59 58.00\" xmlns=\"http://www.w3.org/2000/svg\" xmlns:xlink=\"http://www.w3.org/1999/xlink\">\n<g id=\"graph0\" class=\"graph\" transform=\"scale(1 1) rotate(0) translate(4 54)\">\n<title>G</title>\n<polygon fill=\"white\" stroke=\"transparent\" points=\"-4,4 -4,-54 280.59,-54 280.59,4 -4,4\"/>\n<!-- program -->\n<g id=\"node1\" class=\"node\">\n<title>program</title>\n<polygon fill=\"none\" stroke=\"black\" points=\"172.99,-50 104.99,-50 100.99,-46 100.99,0 168.99,0 172.99,-4 172.99,-50\"/>\n<polyline fill=\"none\" stroke=\"black\" points=\"168.99,-46 100.99,-46 \"/>\n<polyline fill=\"none\" stroke=\"black\" points=\"168.99,-46 168.99,0 \"/>\n<polyline fill=\"none\" stroke=\"black\" points=\"168.99,-46 172.99,-50 \"/>\n<text text-anchor=\"middle\" x=\"136.99\" y=\"-21.3\" font-family=\"Times,serif\" font-size=\"14.00\">program</text>\n</g>\n<!-- results -->\n<g id=\"node3\" class=\"node\">\n<title>results</title>\n<ellipse fill=\"none\" stroke=\"black\" cx=\"242.79\" cy=\"-25\" rx=\"33.6\" ry=\"18\"/>\n<text text-anchor=\"middle\" x=\"242.79\" y=\"-21.3\" font-family=\"Times,serif\" font-size=\"14.00\">results</text>\n</g>\n<!-- program&#45;&gt;results -->\n<g id=\"edge2\" class=\"edge\">\n<title>program&#45;&gt;results</title>\n<path fill=\"none\" stroke=\"black\" d=\"M173.14,-25C181.33,-25 190.15,-25 198.65,-25\"/>\n<polygon fill=\"black\" stroke=\"black\" points=\"198.79,-28.5 208.79,-25 198.79,-21.5 198.79,-28.5\"/>\n</g>\n<!-- inputs -->\n<g id=\"node2\" class=\"node\">\n<title>inputs</title>\n<ellipse fill=\"none\" stroke=\"black\" cx=\"32.5\" cy=\"-25\" rx=\"32.49\" ry=\"18\"/>\n<text text-anchor=\"middle\" x=\"32.5\" y=\"-21.3\" font-family=\"Times,serif\" font-size=\"14.00\">inputs</text>\n</g>\n<!-- inputs&#45;&gt;program -->\n<g id=\"edge1\" class=\"edge\">\n<title>inputs&#45;&gt;program</title>\n<path fill=\"none\" stroke=\"black\" d=\"M65.09,-25C73.11,-25 81.9,-25 90.47,-25\"/>\n<polygon fill=\"black\" stroke=\"black\" points=\"90.76,-28.5 100.76,-25 90.76,-21.5 90.76,-28.5\"/>\n</g>\n</g>\n</svg>\n",
            "text/plain": [
              "<graphviz.sources.Source at 0x79b668121a90>"
            ]
          },
          "metadata": {},
          "execution_count": 17
        }
      ],
      "source": [
        "#hide_input\n",
        "#caption A traditional program\n",
        "#id basic_program\n",
        "#alt Pipeline inputs, program, results\n",
        "gv('''program[shape=box3d width=1 height=0.7]\n",
        "inputs->program->results''')"
      ]
    },
    {
      "cell_type": "markdown",
      "metadata": {
        "id": "-hD4GhRrMPS7"
      },
      "source": [
        "But for recognizing objects in a photo that's a bit tricky; what *are* the steps we take when we recognize an object in a picture? We really don't know, since it all happens in our brain without us being consciously aware of it!\n",
        "\n",
        "Right back at the dawn of computing, in 1949, an IBM researcher named Arthur Samuel started working on a different way to get computers to complete tasks, which he called *machine learning*. In his classic 1962 essay \"Artificial Intelligence: A Frontier of Automation\", he wrote:"
      ]
    },
    {
      "cell_type": "markdown",
      "metadata": {
        "id": "LWz5LUgBMPS7"
      },
      "source": [
        "> : Programming a computer for such computations is, at best, a difficult task, not primarily because of any inherent complexity in the computer itself but, rather, because of the need to spell out every minute step of the process in the most exasperating detail. Computers, as any programmer will tell you, are giant morons, not giant brains."
      ]
    },
    {
      "cell_type": "markdown",
      "metadata": {
        "id": "hNaV4QDpMPS7"
      },
      "source": [
        "His basic idea was this: instead of telling the computer the exact steps required to solve a problem, show it examples of the problem to solve, and let it figure out how to solve it itself. This turned out to be very effective: by 1961 his checkers-playing program had learned so much that it beat the Connecticut state champion! Here's how he described his idea (from the same essay as above):"
      ]
    },
    {
      "cell_type": "markdown",
      "metadata": {
        "id": "X_HDRdSUMPS7"
      },
      "source": [
        "> : Suppose we arrange for some automatic means of testing the effectiveness of any current weight assignment in terms of actual performance and provide a mechanism for altering the weight assignment so as to maximize the performance. We need not go into the details of such a procedure to see that it could be made entirely automatic and to see that a machine so programmed would \"learn\" from its experience."
      ]
    },
    {
      "cell_type": "markdown",
      "metadata": {
        "id": "glRUuRnZMPS7"
      },
      "source": [
        "There are a number of powerful concepts embedded in this short statement:\n",
        "\n",
        "- The idea of a \"weight assignment\"\n",
        "- The fact that every weight assignment has some \"actual performance\"\n",
        "- The requirement that there be an \"automatic means\" of testing that performance,  \n",
        "- The need for a \"mechanism\" (i.e., another automatic process) for improving the performance by changing the weight assignments\n",
        "\n",
        "Let us take these concepts one by one, in order to understand how they fit together in practice. First, we need to understand what Samuel means by a *weight assignment*.\n",
        "\n",
        "Weights are just variables, and a weight assignment is a particular choice of values for those variables. The program's inputs are values that it processes in order to produce its results—for instance, taking image pixels as inputs, and returning the classification \"dog\" as a result. The program's weight assignments are other values that define how the program will operate.\n",
        "\n",
        "Since they will affect the program they are in a sense another kind of input, so we will update our basic picture in <<basic_program>> and replace it with <<weight_assignment>> in order to take this into account."
      ]
    },
    {
      "cell_type": "code",
      "execution_count": 18,
      "metadata": {
        "hide_input": true,
        "id": "5pJmaKiTMPS7",
        "outputId": "274f5195-d854-42bf-9d55-2ac9fa0dc307",
        "colab": {
          "base_uri": "https://localhost:8080/",
          "height": 152
        }
      },
      "outputs": [
        {
          "output_type": "execute_result",
          "data": {
            "image/svg+xml": "<?xml version=\"1.0\" encoding=\"UTF-8\" standalone=\"no\"?>\n<!DOCTYPE svg PUBLIC \"-//W3C//DTD SVG 1.1//EN\"\n \"http://www.w3.org/Graphics/SVG/1.1/DTD/svg11.dtd\">\n<!-- Generated by graphviz version 2.43.0 (0)\n -->\n<!-- Title: G Pages: 1 -->\n<svg width=\"296pt\" height=\"98pt\"\n viewBox=\"0.00 0.00 296.29 98.00\" xmlns=\"http://www.w3.org/2000/svg\" xmlns:xlink=\"http://www.w3.org/1999/xlink\">\n<g id=\"graph0\" class=\"graph\" transform=\"scale(1 1) rotate(0) translate(4 94)\">\n<title>G</title>\n<polygon fill=\"white\" stroke=\"transparent\" points=\"-4,4 -4,-94 292.29,-94 292.29,4 -4,4\"/>\n<!-- model -->\n<g id=\"node1\" class=\"node\">\n<title>model</title>\n<polygon fill=\"none\" stroke=\"black\" points=\"184.69,-70 116.69,-70 112.69,-66 112.69,-20 180.69,-20 184.69,-24 184.69,-70\"/>\n<polyline fill=\"none\" stroke=\"black\" points=\"180.69,-66 112.69,-66 \"/>\n<polyline fill=\"none\" stroke=\"black\" points=\"180.69,-66 180.69,-20 \"/>\n<polyline fill=\"none\" stroke=\"black\" points=\"180.69,-66 184.69,-70 \"/>\n<text text-anchor=\"middle\" x=\"148.69\" y=\"-41.3\" font-family=\"Times,serif\" font-size=\"14.00\">model</text>\n</g>\n<!-- results -->\n<g id=\"node3\" class=\"node\">\n<title>results</title>\n<ellipse fill=\"none\" stroke=\"black\" cx=\"254.49\" cy=\"-45\" rx=\"33.6\" ry=\"18\"/>\n<text text-anchor=\"middle\" x=\"254.49\" y=\"-41.3\" font-family=\"Times,serif\" font-size=\"14.00\">results</text>\n</g>\n<!-- model&#45;&gt;results -->\n<g id=\"edge2\" class=\"edge\">\n<title>model&#45;&gt;results</title>\n<path fill=\"none\" stroke=\"black\" d=\"M184.83,-45C193.03,-45 201.85,-45 210.35,-45\"/>\n<polygon fill=\"black\" stroke=\"black\" points=\"210.49,-48.5 220.49,-45 210.49,-41.5 210.49,-48.5\"/>\n</g>\n<!-- inputs -->\n<g id=\"node2\" class=\"node\">\n<title>inputs</title>\n<ellipse fill=\"none\" stroke=\"black\" cx=\"38.35\" cy=\"-72\" rx=\"32.49\" ry=\"18\"/>\n<text text-anchor=\"middle\" x=\"38.35\" y=\"-68.3\" font-family=\"Times,serif\" font-size=\"14.00\">inputs</text>\n</g>\n<!-- inputs&#45;&gt;model -->\n<g id=\"edge1\" class=\"edge\">\n<title>inputs&#45;&gt;model</title>\n<path fill=\"none\" stroke=\"black\" d=\"M68.38,-64.76C78.85,-62.15 90.94,-59.14 102.46,-56.27\"/>\n<polygon fill=\"black\" stroke=\"black\" points=\"103.54,-59.61 112.39,-53.8 101.84,-52.82 103.54,-59.61\"/>\n</g>\n<!-- weights -->\n<g id=\"node4\" class=\"node\">\n<title>weights</title>\n<ellipse fill=\"none\" stroke=\"black\" cx=\"38.35\" cy=\"-18\" rx=\"38.19\" ry=\"18\"/>\n<text text-anchor=\"middle\" x=\"38.35\" y=\"-14.3\" font-family=\"Times,serif\" font-size=\"14.00\">weights</text>\n</g>\n<!-- weights&#45;&gt;model -->\n<g id=\"edge3\" class=\"edge\">\n<title>weights&#45;&gt;model</title>\n<path fill=\"none\" stroke=\"black\" d=\"M72.44,-26.25C81.96,-28.62 92.51,-31.25 102.63,-33.77\"/>\n<polygon fill=\"black\" stroke=\"black\" points=\"101.99,-37.22 112.54,-36.24 103.69,-30.43 101.99,-37.22\"/>\n</g>\n</g>\n</svg>\n",
            "text/plain": [
              "<graphviz.sources.Source at 0x79b6695eafd0>"
            ]
          },
          "metadata": {},
          "execution_count": 18
        }
      ],
      "source": [
        "#hide_input\n",
        "#caption A program using weight assignment\n",
        "#id weight_assignment\n",
        "gv('''model[shape=box3d width=1 height=0.7]\n",
        "inputs->model->results; weights->model''')"
      ]
    },
    {
      "cell_type": "markdown",
      "metadata": {
        "id": "JkLhpR2jMPS7"
      },
      "source": [
        "We've changed the name of our box from *program* to *model*. This is to follow modern terminology and to reflect that the *model* is a special kind of program: it's one that can do *many different things*, depending on the *weights*. It can be implemented in many different ways. For instance, in Samuel's checkers program, different values of the weights would result in different checkers-playing strategies.\n",
        "\n",
        "(By the way, what Samuel called \"weights\" are most generally referred to as model *parameters* these days, in case you have encountered that term. The term *weights* is reserved for a particular type of model parameter.)\n",
        "\n",
        "Next, Samuel said we need an *automatic means of testing the effectiveness of any current weight assignment in terms of actual performance*. In the case of his checkers program, the \"actual performance\" of a model would be how well it plays. And you could automatically test the performance of two models by setting them to play against each other, and seeing which one usually wins.\n",
        "\n",
        "Finally, he says we need *a mechanism for altering the weight assignment so as to maximize the performance*. For instance, we could look at the difference in weights between the winning model and the losing model, and adjust the weights a little further in the winning direction.\n",
        "\n",
        "We can now see why he said that such a procedure *could be made entirely automatic and... a machine so programmed would \"learn\" from its experience*. Learning would become entirely automatic when the adjustment of the weights was also automatic—when instead of us improving a model by adjusting its weights manually, we relied on an automated mechanism that produced adjustments based on performance.\n",
        "\n",
        "<<training_loop>> shows the full picture of Samuel's idea of training a machine learning model."
      ]
    },
    {
      "cell_type": "code",
      "execution_count": 19,
      "metadata": {
        "hide_input": true,
        "id": "zCyRP7rsMPS8",
        "outputId": "e0c09a38-e195-47ea-b9b1-1259a782b108",
        "colab": {
          "base_uri": "https://localhost:8080/",
          "height": 152
        }
      },
      "outputs": [
        {
          "output_type": "execute_result",
          "data": {
            "image/svg+xml": "<?xml version=\"1.0\" encoding=\"UTF-8\" standalone=\"no\"?>\n<!DOCTYPE svg PUBLIC \"-//W3C//DTD SVG 1.1//EN\"\n \"http://www.w3.org/Graphics/SVG/1.1/DTD/svg11.dtd\">\n<!-- Generated by graphviz version 2.43.0 (0)\n -->\n<!-- Title: G Pages: 1 -->\n<svg width=\"483pt\" height=\"98pt\"\n viewBox=\"0.00 0.00 483.08 98.00\" xmlns=\"http://www.w3.org/2000/svg\" xmlns:xlink=\"http://www.w3.org/1999/xlink\">\n<g id=\"graph0\" class=\"graph\" transform=\"scale(1 1) rotate(0) translate(4 94)\">\n<title>G</title>\n<polygon fill=\"white\" stroke=\"transparent\" points=\"-4,4 -4,-94 479.08,-94 479.08,4 -4,4\"/>\n<!-- model -->\n<g id=\"node1\" class=\"node\">\n<title>model</title>\n<polygon fill=\"none\" stroke=\"black\" points=\"185.69,-77 117.69,-77 113.69,-73 113.69,-27 181.69,-27 185.69,-31 185.69,-77\"/>\n<polyline fill=\"none\" stroke=\"black\" points=\"181.69,-73 113.69,-73 \"/>\n<polyline fill=\"none\" stroke=\"black\" points=\"181.69,-73 181.69,-27 \"/>\n<polyline fill=\"none\" stroke=\"black\" points=\"181.69,-73 185.69,-77 \"/>\n<text text-anchor=\"middle\" x=\"149.69\" y=\"-48.3\" font-family=\"Times,serif\" font-size=\"14.00\">model</text>\n</g>\n<!-- results -->\n<g id=\"node3\" class=\"node\">\n<title>results</title>\n<ellipse fill=\"none\" stroke=\"black\" cx=\"292.49\" cy=\"-52\" rx=\"33.6\" ry=\"18\"/>\n<text text-anchor=\"middle\" x=\"292.49\" y=\"-48.3\" font-family=\"Times,serif\" font-size=\"14.00\">results</text>\n</g>\n<!-- model&#45;&gt;results -->\n<g id=\"edge2\" class=\"edge\">\n<title>model&#45;&gt;results</title>\n<path fill=\"none\" stroke=\"black\" d=\"M185.86,-52C204.73,-52 228.14,-52 248.13,-52\"/>\n<polygon fill=\"black\" stroke=\"black\" points=\"248.22,-55.5 258.22,-52 248.22,-48.5 248.22,-55.5\"/>\n</g>\n<!-- inputs -->\n<g id=\"node2\" class=\"node\">\n<title>inputs</title>\n<ellipse fill=\"none\" stroke=\"black\" cx=\"38.35\" cy=\"-72\" rx=\"32.49\" ry=\"18\"/>\n<text text-anchor=\"middle\" x=\"38.35\" y=\"-68.3\" font-family=\"Times,serif\" font-size=\"14.00\">inputs</text>\n</g>\n<!-- inputs&#45;&gt;model -->\n<g id=\"edge1\" class=\"edge\">\n<title>inputs&#45;&gt;model</title>\n<path fill=\"none\" stroke=\"black\" d=\"M69.52,-66.48C80.08,-64.55 92.18,-62.34 103.68,-60.23\"/>\n<polygon fill=\"black\" stroke=\"black\" points=\"104.39,-63.66 113.59,-58.42 103.13,-56.78 104.39,-63.66\"/>\n</g>\n<!-- performance -->\n<g id=\"node5\" class=\"node\">\n<title>performance</title>\n<ellipse fill=\"none\" stroke=\"black\" cx=\"419.18\" cy=\"-52\" rx=\"55.79\" ry=\"18\"/>\n<text text-anchor=\"middle\" x=\"419.18\" y=\"-48.3\" font-family=\"Times,serif\" font-size=\"14.00\">performance</text>\n</g>\n<!-- results&#45;&gt;performance -->\n<g id=\"edge4\" class=\"edge\">\n<title>results&#45;&gt;performance</title>\n<path fill=\"none\" stroke=\"black\" d=\"M326.58,-52C334.84,-52 344,-52 353.23,-52\"/>\n<polygon fill=\"black\" stroke=\"black\" points=\"353.23,-55.5 363.23,-52 353.23,-48.5 353.23,-55.5\"/>\n</g>\n<!-- weights -->\n<g id=\"node4\" class=\"node\">\n<title>weights</title>\n<ellipse fill=\"none\" stroke=\"black\" cx=\"38.35\" cy=\"-18\" rx=\"38.19\" ry=\"18\"/>\n<text text-anchor=\"middle\" x=\"38.35\" y=\"-14.3\" font-family=\"Times,serif\" font-size=\"14.00\">weights</text>\n</g>\n<!-- weights&#45;&gt;model -->\n<g id=\"edge3\" class=\"edge\">\n<title>weights&#45;&gt;model</title>\n<path fill=\"none\" stroke=\"black\" d=\"M70.68,-27.74C81.03,-30.96 92.75,-34.61 103.9,-38.07\"/>\n<polygon fill=\"black\" stroke=\"black\" points=\"102.92,-41.43 113.51,-41.06 105,-34.75 102.92,-41.43\"/>\n</g>\n<!-- performance&#45;&gt;weights -->\n<g id=\"edge5\" class=\"edge\">\n<title>performance&#45;&gt;weights</title>\n<path fill=\"none\" stroke=\"black\" d=\"M380.65,-38.79C364.18,-33.57 344.49,-28.08 326.29,-25 242.8,-10.86 143.72,-12.41 86.54,-15.05\"/>\n<polygon fill=\"black\" stroke=\"black\" points=\"86.17,-11.56 76.36,-15.55 86.52,-18.55 86.17,-11.56\"/>\n<text text-anchor=\"middle\" x=\"222.19\" y=\"-19.8\" font-family=\"Times,serif\" font-size=\"14.00\">update</text>\n</g>\n</g>\n</svg>\n",
            "text/plain": [
              "<graphviz.sources.Source at 0x79b6682d6e90>"
            ]
          },
          "metadata": {},
          "execution_count": 19
        }
      ],
      "source": [
        "#hide_input\n",
        "#caption Training a machine learning model\n",
        "#id training_loop\n",
        "#alt The basic training loop\n",
        "gv('''ordering=in\n",
        "model[shape=box3d width=1 height=0.7]\n",
        "inputs->model->results; weights->model; results->performance\n",
        "performance->weights[constraint=false label=update]''')"
      ]
    },
    {
      "cell_type": "markdown",
      "metadata": {
        "id": "5IbGdqUvMPS8"
      },
      "source": [
        "Notice the distinction between the model's *results*  (e.g., the moves in a checkers game) and its *performance* (e.g., whether it wins the game, or how quickly it wins).\n",
        "\n",
        "Also note that once the model is trained—that is, once we've chosen our final, best, favorite weight assignment—then we can think of the weights as being *part of the model*, since we're not varying them any more.\n",
        "\n",
        "Therefore, actually *using* a model after it's trained looks like <<using_model>>."
      ]
    },
    {
      "cell_type": "code",
      "execution_count": 20,
      "metadata": {
        "hide_input": true,
        "id": "6EmiM-D0MPS8",
        "outputId": "351cfacf-d265-4136-e11d-737259a934d2",
        "colab": {
          "base_uri": "https://localhost:8080/",
          "height": 98
        }
      },
      "outputs": [
        {
          "output_type": "execute_result",
          "data": {
            "image/svg+xml": "<?xml version=\"1.0\" encoding=\"UTF-8\" standalone=\"no\"?>\n<!DOCTYPE svg PUBLIC \"-//W3C//DTD SVG 1.1//EN\"\n \"http://www.w3.org/Graphics/SVG/1.1/DTD/svg11.dtd\">\n<!-- Generated by graphviz version 2.43.0 (0)\n -->\n<!-- Title: G Pages: 1 -->\n<svg width=\"285pt\" height=\"58pt\"\n viewBox=\"0.00 0.00 284.59 58.00\" xmlns=\"http://www.w3.org/2000/svg\" xmlns:xlink=\"http://www.w3.org/1999/xlink\">\n<g id=\"graph0\" class=\"graph\" transform=\"scale(1 1) rotate(0) translate(4 54)\">\n<title>G</title>\n<polygon fill=\"white\" stroke=\"transparent\" points=\"-4,4 -4,-54 280.59,-54 280.59,4 -4,4\"/>\n<!-- model -->\n<g id=\"node1\" class=\"node\">\n<title>model</title>\n<polygon fill=\"none\" stroke=\"black\" points=\"172.99,-50 104.99,-50 100.99,-46 100.99,0 168.99,0 172.99,-4 172.99,-50\"/>\n<polyline fill=\"none\" stroke=\"black\" points=\"168.99,-46 100.99,-46 \"/>\n<polyline fill=\"none\" stroke=\"black\" points=\"168.99,-46 168.99,0 \"/>\n<polyline fill=\"none\" stroke=\"black\" points=\"168.99,-46 172.99,-50 \"/>\n<text text-anchor=\"middle\" x=\"136.99\" y=\"-21.3\" font-family=\"Times,serif\" font-size=\"14.00\">model</text>\n</g>\n<!-- results -->\n<g id=\"node3\" class=\"node\">\n<title>results</title>\n<ellipse fill=\"none\" stroke=\"black\" cx=\"242.79\" cy=\"-25\" rx=\"33.6\" ry=\"18\"/>\n<text text-anchor=\"middle\" x=\"242.79\" y=\"-21.3\" font-family=\"Times,serif\" font-size=\"14.00\">results</text>\n</g>\n<!-- model&#45;&gt;results -->\n<g id=\"edge2\" class=\"edge\">\n<title>model&#45;&gt;results</title>\n<path fill=\"none\" stroke=\"black\" d=\"M173.14,-25C181.33,-25 190.15,-25 198.65,-25\"/>\n<polygon fill=\"black\" stroke=\"black\" points=\"198.79,-28.5 208.79,-25 198.79,-21.5 198.79,-28.5\"/>\n</g>\n<!-- inputs -->\n<g id=\"node2\" class=\"node\">\n<title>inputs</title>\n<ellipse fill=\"none\" stroke=\"black\" cx=\"32.5\" cy=\"-25\" rx=\"32.49\" ry=\"18\"/>\n<text text-anchor=\"middle\" x=\"32.5\" y=\"-21.3\" font-family=\"Times,serif\" font-size=\"14.00\">inputs</text>\n</g>\n<!-- inputs&#45;&gt;model -->\n<g id=\"edge1\" class=\"edge\">\n<title>inputs&#45;&gt;model</title>\n<path fill=\"none\" stroke=\"black\" d=\"M65.09,-25C73.11,-25 81.9,-25 90.47,-25\"/>\n<polygon fill=\"black\" stroke=\"black\" points=\"90.76,-28.5 100.76,-25 90.76,-21.5 90.76,-28.5\"/>\n</g>\n</g>\n</svg>\n",
            "text/plain": [
              "<graphviz.sources.Source at 0x79b6680ee210>"
            ]
          },
          "metadata": {},
          "execution_count": 20
        }
      ],
      "source": [
        "#hide_input\n",
        "#caption Using a trained model as a program\n",
        "#id using_model\n",
        "gv('''model[shape=box3d width=1 height=0.7]\n",
        "inputs->model->results''')"
      ]
    },
    {
      "cell_type": "markdown",
      "metadata": {
        "id": "gUkCu0q6MPS8"
      },
      "source": [
        "This looks identical to our original diagram in <<basic_program>>, just with the word *program* replaced with *model*. This is an important insight: *a trained model can be treated just like a regular computer program*."
      ]
    },
    {
      "cell_type": "markdown",
      "metadata": {
        "id": "KvnNXePCMPS8"
      },
      "source": [
        "> jargon: Machine Learning: The training of programs developed by allowing a computer to learn from its experience, rather than through manually coding the individual steps."
      ]
    },
    {
      "cell_type": "markdown",
      "metadata": {
        "id": "HTnfrxytMPS8"
      },
      "source": [
        "### What Is a Neural Network?"
      ]
    },
    {
      "cell_type": "markdown",
      "metadata": {
        "id": "s-CQtv52MPS8"
      },
      "source": [
        "It's not too hard to imagine what the model might look like for a checkers program. There might be a range of checkers strategies encoded, and some kind of search mechanism, and then the weights could vary how strategies are selected, what parts of the board are focused on during a search, and so forth. But it's not at all obvious what the model might look like for an image recognition program, or for understanding text, or for many other interesting problems we might imagine.\n",
        "\n",
        "What we would like is some kind of function that is so flexible that it could be used to solve any given problem, just by varying its weights. Amazingly enough, this function actually exists! It's the neural network, which we already discussed. That is, if you regard a neural network as a mathematical function, it turns out to be a function which is extremely flexible depending on its weights. A mathematical proof called the *universal approximation theorem* shows that this function can solve any problem to any level of accuracy, in theory. The fact that neural networks are so flexible means that, in practice, they are often a suitable kind of model, and you can focus your effort on the process of training them—that is, of finding good weight assignments.\n",
        "\n",
        "But what about that process?  One could imagine that you might need to find a new \"mechanism\" for automatically updating weights for every problem. This would be laborious. What we'd like here as well is a completely general way to update the weights of a neural network, to make it improve at any given task. Conveniently, this also exists!\n",
        "\n",
        "This is called *stochastic gradient descent* (SGD). We'll see how neural networks and SGD work in detail in <<chapter_mnist_basics>>, as well as explaining the universal approximation theorem. For now, however, we will instead use Samuel's own words: *We need not go into the details of such a procedure to see that it could be made entirely automatic and to see that a machine so programmed would \"learn\" from its experience.*"
      ]
    },
    {
      "cell_type": "markdown",
      "metadata": {
        "id": "gG6gw2yjMPS9"
      },
      "source": [
        "> J: Don't worry, neither SGD nor neural nets are mathematically complex. Both nearly entirely rely on addition and multiplication to do their work (but they do a _lot_ of addition and multiplication!). The main reaction we hear from students when they see the details is: \"Is that all it is?\""
      ]
    },
    {
      "cell_type": "markdown",
      "metadata": {
        "id": "eqKhFLwkMPS9"
      },
      "source": [
        "In other words, to recap, a neural network is a particular kind of machine learning model, which fits right in to Samuel's original conception. Neural networks are special because they are highly flexible, which means they can solve an unusually wide range of problems just by finding the right weights. This is powerful, because stochastic gradient descent provides us a way to find those weight values automatically.\n",
        "\n",
        "Having zoomed out, let's now zoom back in and revisit our image classification problem using Samuel's framework.\n",
        "\n",
        "Our inputs are the images. Our weights are the weights in the neural net. Our model is a neural net. Our results are the values that are calculated by the neural net, like \"dog\" or \"cat.\"\n",
        "\n",
        "What about the next piece, an *automatic means of testing the effectiveness of any current weight assignment in terms of actual performance*? Determining \"actual performance\" is easy enough: we can simply define our model's performance as its accuracy at predicting the correct answers.\n",
        "\n",
        "Putting this all together, and assuming that SGD is our mechanism for updating the weight assignments, we can see how our image classifier is a machine learning model, much like Samuel envisioned."
      ]
    },
    {
      "cell_type": "markdown",
      "metadata": {
        "id": "xISqskhUMPS9"
      },
      "source": [
        "### A Bit of Deep Learning Jargon"
      ]
    },
    {
      "cell_type": "markdown",
      "metadata": {
        "id": "YytJJgpvMPS9"
      },
      "source": [
        "Samuel was working in the 1960s, and since then terminology has changed. Here is the modern deep learning terminology for all the pieces we have discussed:\n",
        "\n",
        "- The functional form of the *model* is called its *architecture* (but be careful—sometimes people use *model* as a synonym of *architecture*, so this can get confusing).\n",
        "- The *weights* are called *parameters*.\n",
        "- The *predictions* are calculated from the *independent variable*, which is the *data* not including the *labels*.\n",
        "- The *results* of the model are called *predictions*.\n",
        "- The measure of *performance* is called the *loss*.\n",
        "- The loss depends not only on the predictions, but also the correct *labels* (also known as *targets* or the *dependent variable*); e.g., \"dog\" or \"cat.\"\n",
        "\n",
        "After making these changes, our diagram in <<training_loop>> looks like <<detailed_loop>>."
      ]
    },
    {
      "cell_type": "code",
      "execution_count": 21,
      "metadata": {
        "hide_input": true,
        "id": "mWns4DLyMPS9",
        "outputId": "8d87613e-ec2f-41bc-8502-e2729035c233",
        "colab": {
          "base_uri": "https://localhost:8080/",
          "height": 200
        }
      },
      "outputs": [
        {
          "output_type": "execute_result",
          "data": {
            "image/svg+xml": "<?xml version=\"1.0\" encoding=\"UTF-8\" standalone=\"no\"?>\n<!DOCTYPE svg PUBLIC \"-//W3C//DTD SVG 1.1//EN\"\n \"http://www.w3.org/Graphics/SVG/1.1/DTD/svg11.dtd\">\n<!-- Generated by graphviz version 2.43.0 (0)\n -->\n<!-- Title: G Pages: 1 -->\n<svg width=\"489pt\" height=\"134pt\"\n viewBox=\"0.00 0.00 489.18 134.36\" xmlns=\"http://www.w3.org/2000/svg\" xmlns:xlink=\"http://www.w3.org/1999/xlink\">\n<g id=\"graph0\" class=\"graph\" transform=\"scale(1 1) rotate(0) translate(4 130.36)\">\n<title>G</title>\n<polygon fill=\"white\" stroke=\"transparent\" points=\"-4,4 -4,-130.36 485.18,-130.36 485.18,4 -4,4\"/>\n<!-- model -->\n<g id=\"node1\" class=\"node\">\n<title>model</title>\n<polygon fill=\"none\" stroke=\"black\" points=\"217.09,-79.36 141.09,-79.36 137.09,-75.36 137.09,-29.36 213.09,-29.36 217.09,-33.36 217.09,-79.36\"/>\n<polyline fill=\"none\" stroke=\"black\" points=\"213.09,-75.36 137.09,-75.36 \"/>\n<polyline fill=\"none\" stroke=\"black\" points=\"213.09,-75.36 213.09,-29.36 \"/>\n<polyline fill=\"none\" stroke=\"black\" points=\"213.09,-75.36 217.09,-79.36 \"/>\n<text text-anchor=\"middle\" x=\"177.09\" y=\"-50.66\" font-family=\"Times,serif\" font-size=\"14.00\">architecture</text>\n</g>\n<!-- predictions -->\n<g id=\"node3\" class=\"node\">\n<title>predictions</title>\n<ellipse fill=\"none\" stroke=\"black\" cx=\"340.14\" cy=\"-54.36\" rx=\"50.09\" ry=\"18\"/>\n<text text-anchor=\"middle\" x=\"340.14\" y=\"-50.66\" font-family=\"Times,serif\" font-size=\"14.00\">predictions</text>\n</g>\n<!-- model&#45;&gt;predictions -->\n<g id=\"edge2\" class=\"edge\">\n<title>model&#45;&gt;predictions</title>\n<path fill=\"none\" stroke=\"black\" d=\"M217.49,-54.36C236.29,-54.36 259.19,-54.36 280.02,-54.36\"/>\n<polygon fill=\"black\" stroke=\"black\" points=\"280.06,-57.86 290.06,-54.36 280.06,-50.86 280.06,-57.86\"/>\n</g>\n<!-- inputs -->\n<g id=\"node2\" class=\"node\">\n<title>inputs</title>\n<ellipse fill=\"none\" stroke=\"black\" cx=\"50.05\" cy=\"-74.36\" rx=\"32.49\" ry=\"18\"/>\n<text text-anchor=\"middle\" x=\"50.05\" y=\"-70.66\" font-family=\"Times,serif\" font-size=\"14.00\">inputs</text>\n</g>\n<!-- inputs&#45;&gt;model -->\n<g id=\"edge1\" class=\"edge\">\n<title>inputs&#45;&gt;model</title>\n<path fill=\"none\" stroke=\"black\" d=\"M81.64,-69.47C95.15,-67.31 111.38,-64.71 126.54,-62.28\"/>\n<polygon fill=\"black\" stroke=\"black\" points=\"127.51,-65.67 136.83,-60.64 126.4,-58.76 127.51,-65.67\"/>\n</g>\n<!-- loss -->\n<g id=\"node6\" class=\"node\">\n<title>loss</title>\n<ellipse fill=\"none\" stroke=\"black\" cx=\"454.18\" cy=\"-83.36\" rx=\"27\" ry=\"18\"/>\n<text text-anchor=\"middle\" x=\"454.18\" y=\"-79.66\" font-family=\"Times,serif\" font-size=\"14.00\">loss</text>\n</g>\n<!-- predictions&#45;&gt;loss -->\n<g id=\"edge5\" class=\"edge\">\n<title>predictions&#45;&gt;loss</title>\n<path fill=\"none\" stroke=\"black\" d=\"M381.27,-64.75C393.51,-67.91 406.85,-71.37 418.68,-74.43\"/>\n<polygon fill=\"black\" stroke=\"black\" points=\"418.07,-77.89 428.63,-77 419.82,-71.11 418.07,-77.89\"/>\n</g>\n<!-- parameters -->\n<g id=\"node4\" class=\"node\">\n<title>parameters</title>\n<ellipse fill=\"none\" stroke=\"black\" cx=\"50.05\" cy=\"-20.36\" rx=\"50.09\" ry=\"18\"/>\n<text text-anchor=\"middle\" x=\"50.05\" y=\"-16.66\" font-family=\"Times,serif\" font-size=\"14.00\">parameters</text>\n</g>\n<!-- parameters&#45;&gt;model -->\n<g id=\"edge3\" class=\"edge\">\n<title>parameters&#45;&gt;model</title>\n<path fill=\"none\" stroke=\"black\" d=\"M90.61,-31.12C102.13,-34.25 114.85,-37.71 126.88,-40.98\"/>\n<polygon fill=\"black\" stroke=\"black\" points=\"126.22,-44.42 136.78,-43.67 128.05,-37.67 126.22,-44.42\"/>\n</g>\n<!-- labels -->\n<g id=\"node5\" class=\"node\">\n<title>labels</title>\n<ellipse fill=\"none\" stroke=\"black\" cx=\"340.14\" cy=\"-108.36\" rx=\"31.4\" ry=\"18\"/>\n<text text-anchor=\"middle\" x=\"340.14\" y=\"-104.66\" font-family=\"Times,serif\" font-size=\"14.00\">labels</text>\n</g>\n<!-- labels&#45;&gt;loss -->\n<g id=\"edge4\" class=\"edge\">\n<title>labels&#45;&gt;loss</title>\n<path fill=\"none\" stroke=\"black\" d=\"M369.41,-102.05C384.3,-98.73 402.69,-94.63 418.44,-91.11\"/>\n<polygon fill=\"black\" stroke=\"black\" points=\"419.35,-94.49 428.35,-88.9 417.83,-87.66 419.35,-94.49\"/>\n</g>\n<!-- loss&#45;&gt;parameters -->\n<g id=\"edge6\" class=\"edge\">\n<title>loss&#45;&gt;parameters</title>\n<path fill=\"none\" stroke=\"black\" d=\"M440.88,-67.53C429.39,-54.1 410.95,-35.74 390.18,-27.36 295.38,10.89 173.21,0.49 104.38,-10.18\"/>\n<polygon fill=\"black\" stroke=\"black\" points=\"103.53,-6.77 94.21,-11.81 104.64,-13.68 103.53,-6.77\"/>\n<text text-anchor=\"middle\" x=\"253.59\" y=\"-6.16\" font-family=\"Times,serif\" font-size=\"14.00\">update</text>\n</g>\n</g>\n</svg>\n",
            "text/plain": [
              "<graphviz.sources.Source at 0x79b6681211d0>"
            ]
          },
          "metadata": {},
          "execution_count": 21
        }
      ],
      "source": [
        "#hide_input\n",
        "#caption Detailed training loop\n",
        "#id detailed_loop\n",
        "gv('''ordering=in\n",
        "model[shape=box3d width=1 height=0.7 label=architecture]\n",
        "inputs->model->predictions; parameters->model; labels->loss; predictions->loss\n",
        "loss->parameters[constraint=false label=update]''')"
      ]
    },
    {
      "cell_type": "markdown",
      "metadata": {
        "id": "ZEICg9aqMPS9"
      },
      "source": [
        "### Limitations Inherent To Machine Learning\n",
        "\n",
        "From this picture we can now see some fundamental things about training a deep learning model:\n",
        "\n",
        "- A model cannot be created without data.\n",
        "- A model can only learn to operate on the patterns seen in the input data used to train it.\n",
        "- This learning approach only creates *predictions*, not recommended *actions*.\n",
        "- It's not enough to just have examples of input data; we need *labels* for that data too (e.g., pictures of dogs and cats aren't enough to train a model; we need a label for each one, saying which ones are dogs, and which are cats).\n",
        "\n",
        "Generally speaking, we've seen that most organizations that say they don't have enough data, actually mean they don't have enough *labeled* data. If any organization is interested in doing something in practice with a model, then presumably they have some inputs they plan to run their model against. And presumably they've been doing that some other way for a while (e.g., manually, or with some heuristic program), so they have data from those processes! For instance, a radiology practice will almost certainly have an archive of medical scans (since they need to be able to check how their patients are progressing over time), but those scans may not have structured labels containing a list of diagnoses or interventions (since radiologists generally create free-text natural language reports, not structured data). We'll be discussing labeling approaches a lot in this book, because it's such an important issue in practice.\n",
        "\n",
        "Since these kinds of machine learning models can only make *predictions* (i.e., attempt to replicate labels), this can result in a significant gap between organizational goals and model capabilities. For instance, in this book you'll learn how to create a *recommendation system* that can predict what products a user might purchase. This is often used in e-commerce, such as to customize products shown on a home page by showing the highest-ranked items. But such a model is generally created by looking at a user and their buying history (*inputs*) and what they went on to buy or look at (*labels*), which means that the model is likely to tell you about products the user already has or already knows about, rather than new products that they are most likely to be interested in hearing about. That's very different to what, say, an expert at your local bookseller might do, where they ask questions to figure out your taste, and then tell you about authors or series that you've never heard of before."
      ]
    },
    {
      "cell_type": "markdown",
      "metadata": {
        "id": "oC2CdoKvMPS9"
      },
      "source": [
        "Another critical insight comes from considering how a model interacts with its environment. This can create *feedback loops*, as described here:\n",
        "\n",
        "- A *predictive policing* model is created based on where arrests have been made in the past. In practice, this is not actually predicting crime, but rather predicting arrests, and is therefore partially simply reflecting biases in existing policing processes.\n",
        "- Law enforcement officers then might use that model to decide where to focus their police activity, resulting in increased arrests in those areas.\n",
        "- Data on these additional arrests would then be fed back in to retrain future versions of the model.\n",
        "\n",
        "This is a *positive feedback loop*, where the more the model is used, the more biased the data becomes, making the model even more biased, and so forth.\n",
        "\n",
        "Feedback loops can also create problems in commercial settings. For instance, a video recommendation system might be biased toward recommending content consumed by the biggest watchers of video (e.g., conspiracy theorists and extremists tend to watch more online video content than the average), resulting in those users increasing their video consumption, resulting in more of those kinds of videos being recommended. We'll consider this topic more in detail in <<chapter_ethics>>."
      ]
    },
    {
      "cell_type": "markdown",
      "metadata": {
        "id": "b8LRM1hwMPS9"
      },
      "source": [
        "Now that you have seen the base of the theory, let's go back to our code example and see in detail how the code corresponds to the process we just described."
      ]
    },
    {
      "cell_type": "markdown",
      "metadata": {
        "id": "aXON6k-yMPS9"
      },
      "source": [
        "### How Our Image Recognizer Works"
      ]
    },
    {
      "cell_type": "markdown",
      "metadata": {
        "id": "AqA0Ni9dMPS9"
      },
      "source": [
        "Let's see just how our image recognizer code maps to these ideas. We'll put each line into a separate cell, and look at what each one is doing (we won't explain every detail of every parameter yet, but will give a description of the important bits; full details will come later in the book)."
      ]
    },
    {
      "cell_type": "markdown",
      "metadata": {
        "id": "emzhG7OzMPS9"
      },
      "source": [
        "The first line imports all of the fastai.vision library.\n",
        "\n",
        "```python\n",
        "from fastai.vision.all import *\n",
        "```\n",
        "\n",
        "This gives us all of the functions and classes we will need to create a wide variety of computer vision models."
      ]
    },
    {
      "cell_type": "markdown",
      "metadata": {
        "id": "vRAoRrAUMPS-"
      },
      "source": [
        "> J: A lot of Python coders recommend avoiding importing a whole library like this (using the `import *` syntax), because in large software projects it can cause problems. However, for interactive work such as in a Jupyter notebook, it works great. The fastai library is specially designed to support this kind of interactive use, and it will only import the necessary pieces into your environment."
      ]
    },
    {
      "cell_type": "markdown",
      "metadata": {
        "id": "z4_Zs4CAMPS-"
      },
      "source": [
        "The second line downloads a standard dataset from the [fast.ai datasets collection](https://docs.fast.ai/data.external.html#datasets) (if not previously downloaded) to your server, extracts it (if not previously extracted), and returns a `Path` object with the extracted location:\n",
        "\n",
        "```python\n",
        "path = untar_data(URLs.PETS)/'images'\n",
        "```\n",
        "\n",
        "> S: Throughout my time studying at fast.ai, and even still today, I've learned a lot about productive coding practices. The fastai library and fast.ai notebooks are full of great little tips that have helped make me a better programmer. For instance, notice that the fastai library doesn't just return a string containing the path to the dataset, but a `Path` object. This is a really useful class from the Python 3 standard library that makes accessing files and directories much easier. If you haven't come across it before, be sure to check out its documentation or a tutorial and try it out. Note that the https://book.fast.ai[website] contains links to recommended tutorials for each chapter. I'll keep letting you know about little coding tips I've found useful as we come across them."
      ]
    },
    {
      "cell_type": "markdown",
      "metadata": {
        "id": "btKVvfimMPS-"
      },
      "source": [
        "In the third line we define a function, `is_cat`, which labels cats based on a filename rule provided by the dataset creators:根据数据集的文件名规则标记猫：\n",
        "```python\n",
        "def is_cat(x): return x[0].isupper()\n",
        "```"
      ]
    },
    {
      "cell_type": "markdown",
      "metadata": {
        "id": "OhMCaArfMPS-"
      },
      "source": [
        "We use that function in the fourth line, which tells fastai what kind of dataset we have and how it is structured:\n",
        "\n",
        "```python\n",
        "dls = ImageDataLoaders.from_name_func(\n",
        "    path, get_image_files(path), valid_pct=0.2, seed=42,\n",
        "    label_func=is_cat, item_tfms=Resize(224))\n",
        "```\n",
        "\n",
        "There are various different classes for different kinds of deep learning datasets and problems—here we're using `ImageDataLoaders`. The first part of the class name will generally be the type of data you have, such as image, or text.\n",
        "\n",
        "The other important piece of information that we have to tell fastai is how to get the labels from the dataset. Computer vision datasets are normally structured in such a way that the label for an image is part of the filename, or path—most commonly the parent folder name. fastai comes with a number of standardized labeling methods, and ways to write your own. Here we're telling fastai to use the `is_cat` function we just defined.\n",
        "\n",
        "Finally, we define the `Transform`s that we need. A `Transform` contains code that is applied automatically during training; fastai includes many predefined `Transform`s, and adding new ones is as simple as creating a Python function. There are two kinds: `item_tfms` are applied to each item (in this case, each item is resized to a 224-pixel square), while `batch_tfms` are applied to a *batch* of items at a time using the GPU, so they're particularly fast (we'll see many examples of these throughout this book).\n",
        "\n",
        "Why 224 pixels? This is the standard size for historical reasons (old pretrained models require this size exactly), but you can pass pretty much anything. If you increase the size, you'll often get a model with better results (since it will be able to focus on more details), but at the price of speed and memory consumption; the opposite is true if you decrease the size."
      ]
    },
    {
      "cell_type": "markdown",
      "metadata": {
        "id": "1agLerYrMPS-"
      },
      "source": [
        "> Note: Classification and Regression: _classification_ and _regression_ have very specific meanings in machine learning. These are the two main types of model that we will be investigating in this book. A classification model is one which attempts to predict a class, or category. That is, it's predicting from a number of discrete possibilities, such as \"dog\" or \"cat.\" A regression model is one which attempts to predict one or more numeric quantities, such as a temperature or a location. Sometimes people use the word _regression_ to refer to a particular kind of model called a _linear regression model_; this is a bad practice, and we won't be using that terminology in this book!"
      ]
    },
    {
      "cell_type": "markdown",
      "metadata": {
        "id": "h56lX0QCMPS-"
      },
      "source": [
        "The Pet dataset contains 7,390 pictures of dogs and cats, consisting of 37 different breeds. Each image is labeled using its filename: for instance the file *great\\_pyrenees\\_173.jpg* is the 173rd example of an image of a Great Pyrenees breed dog in the dataset. The filenames start with an uppercase letter if the image is a cat, and a lowercase letter otherwise. We have to tell fastai how to get labels from the filenames, which we do by calling `from_name_func` (which means that labels can be extracted using a function applied to the filename), and passing `is_cat`, which returns `x[0].isupper()`, which evaluates to `True` if the first letter is uppercase (i.e., it's a cat).\n",
        "\n",
        "The most important parameter to mention here is `valid_pct=0.2`. This tells fastai to hold out 20% of the data and *not use it for training the model at all*. This 20% of the data is called the *validation set*; the remaining 80% is called the *training set*. The validation set is used to measure the accuracy of the model. By default, the 20% that is held out is selected randomly. The parameter `seed=42` sets the *random seed* to the same value every time we run this code, which means we get the same validation set every time we run it—this way, if we change our model and retrain it, we know that any differences are due to the changes to the model, not due to having a different random validation set.\n",
        "\n",
        "fastai will *always* show you your model's accuracy using *only* the validation set, *never* the training set. This is absolutely critical, because if you train a large enough model for a long enough time, it will eventually memorize the label of every item in your dataset! The result will not actually be a useful model, because what we care about is how well our model works on *previously unseen images*. That is always our goal when creating a model: for it to be useful on data that the model only sees in the future, after it has been trained.\n",
        "\n",
        "Even when your model has not fully memorized all your data, earlier on in training it may have memorized certain parts of it. As a result, the longer you train for, the better your accuracy will get on the training set; the validation set accuracy will also improve for a while, but eventually it will start getting worse as the model starts to memorize the training set, rather than finding generalizable underlying patterns in the data. When this happens, we say that the model is *overfitting*.\n",
        "\n",
        "<<img_overfit>> shows what happens when you overfit, using a simplified example where we have just one parameter, and some randomly generated data based on the function `x**2`. As you can see, although the predictions in the overfit model are accurate for data near the observed data points, they are way off when outside of that range."
      ]
    },
    {
      "cell_type": "markdown",
      "metadata": {
        "id": "gNobeno1MPS-"
      },
      "source": [
        "<img src=\"https://github.com/fastai/fastbook/blob/master/images/att_00000.png?raw=1\" alt=\"Example of overfitting\" caption=\"Example of overfitting\" id=\"img_overfit\" width=\"700\">"
      ]
    },
    {
      "cell_type": "markdown",
      "metadata": {
        "id": "VHriGfKeMPS-"
      },
      "source": [
        "**Overfitting is the single most important and challenging issue** when training for all machine learning practitioners, and all algorithms. As you will see, it is very easy to create a model that does a great job at making predictions on the exact data it has been trained on, but it is much harder to make accurate predictions on data the model has never seen before. And of course, this is the data that will actually matter in practice. For instance, if you create a handwritten digit classifier (as we will very soon!) and use it to recognize numbers written on checks, then you are never going to see any of the numbers that the model was trained on—checks will have slightly different variations of writing to deal with. You will learn many methods to avoid overfitting in this book. However, you should only use those methods after you have confirmed that overfitting is actually occurring (i.e., you have actually observed the validation accuracy getting worse during training). We often see practitioners using over-fitting avoidance techniques even when they have enough data that they didn't need to do so, ending up with a model that may be less accurate than what they could have achieved."
      ]
    },
    {
      "cell_type": "markdown",
      "metadata": {
        "id": "PGy8EdKFMPS_"
      },
      "source": [
        "> important: Validation Set: When you train a model, you must _always_ have both a training set and a validation set, and must measure the accuracy of your model only on the validation set. If you train for too long, with not enough data, you will see the accuracy of your model start to get worse; this is called _overfitting_. fastai defaults `valid_pct` to `0.2`, so even if you forget, fastai will create a validation set for you!"
      ]
    },
    {
      "cell_type": "markdown",
      "metadata": {
        "id": "LGxBw97ZMPS_"
      },
      "source": [
        "The fifth line of the code training our image recognizer tells fastai to create a *convolutional neural network* (CNN) and specifies what *architecture* to use (i.e. what kind of model to create), what data we want to train it on, and what *metric* to use:\n",
        "\n",
        "```python\n",
        "learn = vision_learner(dls, resnet34, metrics=error_rate)\n",
        "```\n",
        "\n",
        "Why a CNN? It's the current state-of-the-art approach to creating computer vision models. We'll be learning all about how CNNs work in this book. Their structure is inspired by how the human vision system works.\n",
        "\n",
        "There are many different architectures in fastai, which we will introduce in this book (as well as discussing how to create your own). Most of the time, however, picking an architecture isn't a very important part of the deep learning process. It's something that academics love to talk about, but in practice it is unlikely to be something you need to spend much time on. There are some standard architectures that work most of the time, and in this case we're using one called _ResNet_ that we'll be talking a lot about during the book; it is both fast and accurate for many datasets and problems. The `34` in `resnet34` refers to the number of layers in this variant of the architecture (other options are `18`, `50`, `101`, and `152`). Models using architectures with more layers take longer to train, and are more prone to overfitting (i.e. you can't train them for as many epochs before the accuracy on the validation set starts getting worse). On the other hand, when using more data, they can be quite a bit more accurate.\n",
        "\n",
        "What is a metric? A *metric* is a function that measures the quality of the model's predictions using the validation set, and will be printed at the end of each *epoch*. In this case, we're using `error_rate`, which is a function provided by fastai that does just what it says: tells you what percentage of images in the validation set are being classified incorrectly. Another common metric for classification is `accuracy` (which is just `1.0 - error_rate`). fastai provides many more, which will be discussed throughout this book.\n",
        "\n",
        "The concept of a metric may remind you of *loss*, but there is an important distinction. The entire purpose of loss is to define a \"measure of performance\" that the training system can use to update weights automatically. In other words, a good choice for loss is a choice that is easy for stochastic gradient descent to use. But a metric is defined for human consumption, so a good metric is one that is easy for you to understand, and that hews as closely as possible to what you want the model to do. At times, you might decide that the loss function is a suitable metric, but that is not necessarily the case."
      ]
    },
    {
      "cell_type": "markdown",
      "metadata": {
        "id": "Wu1466gPMPS_"
      },
      "source": [
        "`vision_learner` also has a parameter `pretrained`, which defaults to `True` (so it's used in this case, even though we haven't specified it), which sets the weights in your model to values that have already been trained by experts to recognize a thousand different categories across 1.3 million photos (using the famous [*ImageNet* dataset](http://www.image-net.org/)). A model that has weights that have already been trained on some other dataset is called a *pretrained model*. You should nearly always use a pretrained model, because it means that your model, before you've even shown it any of your data, is already very capable. And, as you'll see, in a deep learning model many of these capabilities are things you'll need, almost regardless of the details of your project. For instance, parts of pretrained models will handle edge, gradient, and color detection, which are needed for many tasks.\n",
        "\n",
        "When using a pretrained model, `vision_learner` will remove the last layer, since that is always specifically customized to the original training task (i.e. ImageNet dataset classification), and replace it with one or more new layers with randomized weights, of an appropriate size for the dataset you are working with. This last part of the model is known as the *head*.\n",
        "\n",
        "Using pretrained models is the *most* important method we have to allow us to train more accurate models, more quickly, with less data, and less time and money. You might think that would mean that using pretrained models would be the most studied area in academic deep learning... but you'd be very, very wrong! The importance of pretrained models is generally not recognized or discussed in most courses, books, or software library features, and is rarely considered in academic papers. As we write this at the start of 2020, things are just starting to change, but it's likely to take a while. So be careful: most people you speak to will probably greatly underestimate what you can do in deep learning with few resources, because they probably won't deeply understand how to use pretrained models.\n",
        "\n",
        "Using a pretrained model for a task different to what it was originally trained for is known as *transfer learning*. Unfortunately, because transfer learning is so under-studied, few domains have pretrained models available. For instance, there are currently few pretrained models available in medicine, making transfer learning challenging to use in that domain. In addition, it is not yet well understood how to use transfer learning for tasks such as time series analysis."
      ]
    },
    {
      "cell_type": "markdown",
      "metadata": {
        "id": "4S1EZppbMPS_"
      },
      "source": [
        "> jargon: Transfer learning: Using a pretrained model for a task different to what it was originally trained for."
      ]
    },
    {
      "cell_type": "markdown",
      "metadata": {
        "id": "ZkyQ-GTrMPS_"
      },
      "source": [
        "The sixth line of our code tells fastai how to *fit* the model:\n",
        "\n",
        "```python\n",
        "learn.fine_tune(1)\n",
        "```\n",
        "\n",
        "As we've discussed, the architecture only describes a *template* for a mathematical function; it doesn't actually do anything until we provide values for the millions of parameters it contains.\n",
        "\n",
        "This is the key to deep learning—determining how to fit the parameters of a model to get it to solve your problem. In order to fit a model, we have to provide at least one piece of information: how many times to look at each image (known as number of *epochs*). The number of epochs you select will largely depend on how much time you have available, and how long you find it takes in practice to fit your model. If you select a number that is too small, you can always train for more epochs later.\n",
        "\n",
        "But why is the method called `fine_tune`, and not `fit`? fastai actually *does* have a method called `fit`, which does indeed fit a model (i.e. look at images in the training set multiple times, each time updating the parameters to make the predictions closer and closer to the target labels). But in this case, we've started with a pretrained model, and we don't want to throw away all those capabilities that it already has. As you'll learn in this book, there are some important tricks to adapt a pretrained model for a new dataset—a process called *fine-tuning*."
      ]
    },
    {
      "cell_type": "markdown",
      "metadata": {
        "id": "grkRPxO1MPS_"
      },
      "source": [
        "> jargon: Fine-tuning: A transfer learning technique where the parameters of a pretrained model are updated by training for additional epochs using a different task to that used for pretraining."
      ]
    },
    {
      "cell_type": "markdown",
      "metadata": {
        "id": "S_b-RJg7MPS_"
      },
      "source": [
        "When you use the `fine_tune` method, fastai will use these tricks for you. There are a few parameters you can set (which we'll discuss later), but in the default form shown here, it does two steps:\n",
        "\n",
        "1. Use one epoch to fit just those parts of the model necessary to get the new random head to work correctly with your dataset.\n",
        "1. Use the number of epochs requested when calling the method to fit the entire model, updating the weights of the later layers (especially the head) faster than the earlier layers (which, as we'll see, generally don't require many changes from the pretrained weights).\n",
        "\n",
        "The *head* of a model is the part that is newly added to be specific to the new dataset. An *epoch* is one complete pass through the dataset. After calling `fit`, the results after each epoch are printed, showing the epoch number, the training and validation set losses (the \"measure of performance\" used for training the model), and any *metrics* you've requested (error rate, in this case)."
      ]
    },
    {
      "cell_type": "markdown",
      "metadata": {
        "id": "jQIICBLbMPS_"
      },
      "source": [
        "So, with all this code our model learned to recognize cats and dogs just from labeled examples. But how did it do it?"
      ]
    },
    {
      "cell_type": "markdown",
      "metadata": {
        "id": "3SFQHqBtMPTA"
      },
      "source": [
        "### What Our Image Recognizer Learned"
      ]
    },
    {
      "cell_type": "markdown",
      "metadata": {
        "id": "D6TyozbyMPTA"
      },
      "source": [
        "At this stage we have an image recognizer that is working very well, but we have no idea what it is actually doing! Although many people complain that deep learning results in impenetrable \"black box\" models (that is, something that gives predictions but that no one can understand), this really couldn't be further from the truth. There is a vast body of research showing how to deeply inspect deep learning models, and get rich insights from them. Having said that, all kinds of machine learning models (including deep learning, and traditional statistical models) can be challenging to fully understand, especially when considering how they will behave when coming across data that is very different to the data used to train them. We'll be discussing this issue throughout this book.\n",
        "\n",
        "In 2013 a PhD student, Matt Zeiler, and his supervisor, Rob Fergus, published the paper [\"Visualizing and Understanding Convolutional Networks\"](https://arxiv.org/pdf/1311.2901.pdf), which showed how to visualize the neural network weights learned in each layer of a model. They carefully analyzed the model that won the 2012 ImageNet competition, and used this analysis to greatly improve the model, such that they were able to go on to win the 2013 competition! <<img_layer1>> is the picture that they published of the first layer's weights."
      ]
    },
    {
      "cell_type": "markdown",
      "metadata": {
        "id": "C17-64ozMPTA"
      },
      "source": [
        "<img src=\"https://github.com/fastai/fastbook/blob/master/images/layer1.png?raw=1\" alt=\"Activations of the first layer of a CNN\" width=\"300\" caption=\"Activations of the first layer of a CNN (courtesy of Matthew D. Zeiler and Rob Fergus)\" id=\"img_layer1\">"
      ]
    },
    {
      "cell_type": "markdown",
      "metadata": {
        "id": "fb4uzlzwMPTA"
      },
      "source": [
        "This picture requires some explanation. For each layer, the image part with the light gray background shows the reconstructed weights pictures, and the larger section at the bottom shows the parts of the training images that most strongly matched each set of weights. For layer 1, what we can see is that the model has discovered weights that represent diagonal, horizontal, and vertical edges, as well as various different gradients. (Note that for each layer only a subset of the features are shown; in practice there are thousands across all of the layers.) These are the basic building blocks that the model has learned for computer vision. They have been widely analyzed by neuroscientists and computer vision researchers, and it turns out that these learned building blocks are very similar to the basic visual machinery in the human eye, as well as the handcrafted computer vision features that were developed prior to the days of deep learning. The next layer is represented in <<img_layer2>>."
      ]
    },
    {
      "cell_type": "markdown",
      "metadata": {
        "id": "I9ugf2hdMPTA"
      },
      "source": [
        "<img src=\"https://github.com/fastai/fastbook/blob/master/images/layer2.png?raw=1\" alt=\"Activations of the second layer of a CNN\" width=\"800\" caption=\"Activations of the second layer of a CNN (courtesy of Matthew D. Zeiler and Rob Fergus)\" id=\"img_layer2\">"
      ]
    },
    {
      "cell_type": "markdown",
      "metadata": {
        "id": "q9_d0V7uMPTA"
      },
      "source": [
        "For layer 2, there are nine examples of weight reconstructions for each of the features found by the model. We can see that the model has learned to create feature detectors that look for corners, repeating lines, circles, and other simple patterns. These are built from the basic building blocks developed in the first layer. For each of these, the right-hand side of the picture shows small patches from actual images which these features most closely match. For instance, the particular pattern in row 2, column 1 matches the gradients and textures associated with sunsets.\n",
        "\n",
        "<<img_layer3>> shows the image from the paper showing the results of reconstructing the features of layer 3."
      ]
    },
    {
      "cell_type": "markdown",
      "metadata": {
        "id": "Yph0P7B5MPTA"
      },
      "source": [
        "<img src=\"https://github.com/fastai/fastbook/blob/master/images/chapter2_layer3.PNG?raw=1\" alt=\"Activations of the third layer of a CNN\" width=\"800\" caption=\"Activations of the third layer of a CNN (courtesy of Matthew D. Zeiler and Rob Fergus)\" id=\"img_layer3\">"
      ]
    },
    {
      "cell_type": "markdown",
      "metadata": {
        "id": "eAi6nkaFMPTA"
      },
      "source": [
        "As you can see by looking at the righthand side of this picture, the features are now able to identify and match with higher-level semantic components, such as car wheels, text, and flower petals. Using these components, layers four and five can identify even higher-level concepts, as shown in <<img_layer4>>."
      ]
    },
    {
      "cell_type": "markdown",
      "metadata": {
        "id": "VP0mAWCMMPTA"
      },
      "source": [
        "<img src=\"https://github.com/fastai/fastbook/blob/master/images/chapter2_layer4and5.PNG?raw=1\" alt=\"Activations of layers 4 and 5 of a CNN\" width=\"800\" caption=\"Activations of layers 4 and 5 of a CNN (courtesy of Matthew D. Zeiler and Rob Fergus)\" id=\"img_layer4\">"
      ]
    },
    {
      "cell_type": "markdown",
      "metadata": {
        "id": "7Scu-gf_MPTA"
      },
      "source": [
        "This article was studying an older model called *AlexNet* that only contained five layers. Networks developed since then can have hundreds of layers—so you can imagine how rich the features developed by these models can be!\n",
        "\n",
        "When we fine-tuned our pretrained model earlier, we adapted what those last layers focus on (flowers, humans, animals) to specialize on the cats versus dogs problem. More generally, we could specialize such a pretrained model on many different tasks. Let's have a look at some examples."
      ]
    },
    {
      "cell_type": "markdown",
      "metadata": {
        "id": "vNb1Lmu2MPTA"
      },
      "source": [
        "### Image Recognizers Can Tackle Non-Image Tasks"
      ]
    },
    {
      "cell_type": "markdown",
      "metadata": {
        "id": "rFungzgVMPTA"
      },
      "source": [
        "An image recognizer can, as its name suggests, only recognize images. But a lot of things can be represented as images, which means that an image recogniser can learn to complete many tasks.\n",
        "\n",
        "For instance, a sound can be converted to a spectrogram, which is a chart that shows the amount of each frequency at each time in an audio file. Fast.ai student Ethan Sutin used this approach to easily beat the published accuracy of a state-of-the-art [environmental sound detection model](https://medium.com/@etown/great-results-on-audio-classification-with-fastai-library-ccaf906c5f52) using a dataset of 8,732 urban sounds. fastai's `show_batch` clearly shows how each different sound has a quite distinctive spectrogram, as you can see in <<img_spect>>."
      ]
    },
    {
      "cell_type": "markdown",
      "metadata": {
        "id": "kd5JSc-rMPTA"
      },
      "source": [
        "<img alt=\"show_batch with spectrograms of sounds\" width=\"400\" caption=\"show_batch with spectrograms of sounds\" id=\"img_spect\" src=\"https://github.com/fastai/fastbook/blob/master/images/att_00012.png?raw=1\">"
      ]
    },
    {
      "cell_type": "markdown",
      "metadata": {
        "id": "za2J02w9MPTA"
      },
      "source": [
        "A time series can easily be converted into an image by simply plotting the time series on a graph. However, it is often a good idea to try to represent your data in a way that makes it as easy as possible to pull out the most important components. In a time series, things like seasonality and anomalies are most likely to be of interest. There are various transformations available for time series data. For instance, fast.ai student Ignacio Oguiza created images from a time series dataset for olive oil classification, using a technique called Gramian Angular Difference Field (GADF); you can see the result in <<ts_image>>. He then fed those images to an image classification model just like the one you see in this chapter. His results, despite having only 30 training set images, were well over 90% accurate, and close to the state of the art."
      ]
    },
    {
      "cell_type": "markdown",
      "metadata": {
        "id": "2IrJkfJWMPTB"
      },
      "source": [
        "<img alt=\"Converting a time series into an image\" width=\"700\" caption=\"Converting a time series into an image\" id=\"ts_image\" src=\"https://github.com/fastai/fastbook/blob/master/images/att_00013.png?raw=1\">"
      ]
    },
    {
      "cell_type": "markdown",
      "metadata": {
        "id": "XTbwu14JMPTB"
      },
      "source": [
        "Another interesting fast.ai student project example comes from Gleb Esman. He was working on fraud detection at Splunk, using a dataset of users' mouse movements and mouse clicks. He turned these into pictures by drawing an image where the position, speed, and acceleration of the mouse pointer was displayed using coloured lines, and the clicks were displayed using [small colored circles](https://www.splunk.com/en_us/blog/security/deep-learning-with-splunk-and-tensorflow-for-security-catching-the-fraudster-in-neural-networks-with-behavioral-biometrics.html), as shown in <<splunk>>. He then fed this into an image recognition model just like the one we've used in this chapter, and it worked so well that it led to a patent for this approach to fraud analytics!"
      ]
    },
    {
      "cell_type": "markdown",
      "metadata": {
        "id": "k3vF8jWhMPTB"
      },
      "source": [
        "<img alt=\"Converting computer mouse behavior to an image\" width=\"450\" caption=\"Converting computer mouse behavior to an image\" id=\"splunk\" src=\"https://github.com/fastai/fastbook/blob/master/images/att_00014.png?raw=1\">"
      ]
    },
    {
      "cell_type": "markdown",
      "metadata": {
        "id": "gTo6dRKhMPTB"
      },
      "source": [
        "Another example comes from the paper [\"Malware Classification with Deep Convolutional Neural Networks\"](https://ieeexplore.ieee.org/abstract/document/8328749) by Mahmoud Kalash et al., which explains that \"the malware binary file is divided into 8-bit sequences which are then converted to equivalent decimal values. This decimal vector is reshaped and a gray-scale image is generated that represents the malware sample,\" like in <<malware_proc>>."
      ]
    },
    {
      "cell_type": "markdown",
      "metadata": {
        "id": "VUY6LdkbMPTB"
      },
      "source": [
        "<img alt=\"Malware classification process\" width=\"623\" caption=\"Malware classification process\" id=\"malware_proc\" src=\"https://github.com/fastai/fastbook/blob/master/images/att_00055.png?raw=1\">"
      ]
    },
    {
      "cell_type": "markdown",
      "metadata": {
        "id": "Oole6Q3LMPTB"
      },
      "source": [
        "The authors then show \"pictures\" generated through this process of malware in different categories, as shown in <<malware_eg>>."
      ]
    },
    {
      "cell_type": "markdown",
      "metadata": {
        "id": "snTc0LqSMPTB"
      },
      "source": [
        "<img alt=\"Malware examples\" width=\"650\" caption=\"Malware examples\" id=\"malware_eg\" src=\"https://github.com/fastai/fastbook/blob/master/images/att_00056.png?raw=1\">"
      ]
    },
    {
      "cell_type": "markdown",
      "metadata": {
        "id": "epTjH6G0MPTB"
      },
      "source": [
        "As you can see, the different types of malware look very distinctive to the human eye. The model the researchers trained based on this image representation was more accurate at malware classification than any previous approach shown in the academic literature. This suggests a good rule of thumb for converting a dataset into an image representation: if the human eye can recognize categories from the images, then a deep learning model should be able to do so too.\n",
        "\n",
        "In general, you'll find that a small number of general approaches in deep learning can go a long way, if you're a bit creative in how you represent your data! You shouldn't think of approaches like the ones described here as \"hacky workarounds,\" because actually they often (as here) beat previously state-of-the-art results. These really are the right ways to think about these problem domains."
      ]
    },
    {
      "cell_type": "markdown",
      "metadata": {
        "id": "Hfs1L8J6MPTB"
      },
      "source": [
        "### Jargon Recap"
      ]
    },
    {
      "cell_type": "markdown",
      "metadata": {
        "id": "4a6VuNzKMPTB"
      },
      "source": [
        "We just covered a lot of information so let's recap briefly, <<dljargon>> provides a handy vocabulary.\n",
        "\n",
        "```asciidoc\n",
        "[[dljargon]]\n",
        ".Deep learning vocabulary\n",
        "[options=\"header\"]\n",
        "|=====\n",
        "| Term | Meaning\n",
        "|Label | The data that we're trying to predict, such as \"dog\" or \"cat\"\n",
        "|Architecture | The _template_ of the model that we're trying to fit; the actual mathematical function that we're passing the input data and parameters to\n",
        "|Model | The combination of the architecture with a particular set of parameters\n",
        "|Parameters | The values in the model that change what task it can do, and are updated through model training\n",
        "|Fit | Update the parameters of the model such that the predictions of the model using the input data match the target labels\n",
        "|Train | A synonym for _fit_\n",
        "|Pretrained model | A model that has already been trained, generally using a large dataset, and will be fine-tuned\n",
        "|Fine-tune | Update a pretrained model for a different task\n",
        "|Epoch | One complete pass through the input data\n",
        "|Loss | A measure of how good the model is, chosen to drive training via SGD\n",
        "|Metric | A measurement of how good the model is, using the validation set, chosen for human consumption\n",
        "|Validation set | A set of data held out from training, used only for measuring how good the model is\n",
        "|Training set | The data used for fitting the model; does not include any data from the validation set\n",
        "|Overfitting | Training a model in such a way that it _remembers_ specific features of the input data, rather than generalizing well to data not seen during training\n",
        "|CNN | Convolutional neural network; a type of neural network that works particularly well for computer vision tasks\n",
        "|=====\n",
        "```"
      ]
    },
    {
      "cell_type": "markdown",
      "metadata": {
        "id": "XQqehUBOMPTB"
      },
      "source": [
        "With this vocabulary in hand, we are now in a position to bring together all the key concepts introduced so far. Take a moment to review those definitions and read the following summary. If you can follow the explanation, then you're well equipped to understand the discussions to come.\n",
        "\n",
        "*Machine learning* is a discipline where we define a program not by writing it entirely ourselves, but by learning from data. *Deep learning* is a specialty within machine learning that uses *neural networks* with multiple *layers*. *Image classification* is a representative example (also known as *image recognition*). We start with *labeled data*; that is, a set of images where we have assigned a *label* to each image indicating what it represents. Our goal is to produce a program, called a *model*, which, given a new image, will make an accurate *prediction* regarding what that new image represents.\n",
        "\n",
        "Every model starts with a choice of *architecture*, a general template for how that kind of model works internally. The process of *training* (or *fitting*) the model is the process of finding a set of *parameter values* (or *weights*) that specialize that general architecture into a model that works well for our particular kind of data. In order to define how well a model does on a single prediction, we need to define a *loss function*, which determines how we score a prediction as good or bad.\n",
        "\n",
        "To make the training process go faster, we might start with a *pretrained model*—a model that has already been trained on someone else's data. We can then adapt it to our data by training it a bit more on our data, a process called *fine-tuning*.\n",
        "\n",
        "When we train a model, a key concern is to ensure that our model *generalizes*—that is, that it learns general lessons from our data which also apply to new items it will encounter, so that it can make good predictions on those items. The risk is that if we train our model badly, instead of learning general lessons it effectively memorizes what it has already seen, and then it will make poor predictions about new images. Such a failure is called *overfitting*. In order to avoid this, we always divide our data into two parts, the *training set* and the *validation set*. We train the model by showing it only the training set and then we evaluate how well the model is doing by seeing how well it performs on items from the validation set. In this way, we check if the lessons the model learns from the training set are lessons that generalize to the validation set. In order for a person to assess how well the model is doing on the validation set overall, we define a *metric*. During the training process, when the model has seen every item in the training set, we call that an *epoch*.\n",
        "\n",
        "All these concepts apply to machine learning in general. That is, they apply to all sorts of schemes for defining a model by training it with data. What makes deep learning distinctive is a particular class of architectures: the architectures based on *neural networks*. In particular, tasks like image classification rely heavily on *convolutional neural networks*, which we will discuss shortly."
      ]
    },
    {
      "cell_type": "markdown",
      "metadata": {
        "id": "OF5iFU3KMPTB"
      },
      "source": [
        "## Deep Learning Is Not Just for Image Classification"
      ]
    },
    {
      "cell_type": "markdown",
      "metadata": {
        "id": "OoDib1SDMPTB"
      },
      "source": [
        "Deep learning's effectiveness for classifying images has been widely discussed in recent years, even showing _superhuman_ results on complex tasks like recognizing malignant tumors in CT scans. But it can do a lot more than this, as we will show here.\n",
        "\n",
        "For instance, let's talk about something that is critically important for autonomous vehicles: localizing objects in a picture. If a self-driving car doesn't know where a pedestrian is, then it doesn't know how to avoid one! Creating a model that can recognize the content of every individual pixel in an image is called *segmentation*. Here is how we can train a segmentation model with fastai, using a subset of the [*Camvid* dataset](http://www0.cs.ucl.ac.uk/staff/G.Brostow/papers/Brostow_2009-PRL.pdf) from the paper \"Semantic Object Classes in Video: A High-Definition Ground Truth Database\" by Gabruel J. Brostow, Julien Fauqueur, and Roberto Cipolla:"
      ]
    },
    {
      "cell_type": "code",
      "execution_count": 22,
      "metadata": {
        "id": "NLRE3LxRMPTC",
        "outputId": "e42f8d5e-e183-4277-a980-9dccd0d95dd1",
        "colab": {
          "base_uri": "https://localhost:8080/",
          "height": 380
        }
      },
      "outputs": [
        {
          "output_type": "display_data",
          "data": {
            "text/plain": [
              "<IPython.core.display.HTML object>"
            ],
            "text/html": [
              "\n",
              "<style>\n",
              "    /* Turns off some styling */\n",
              "    progress {\n",
              "        /* gets rid of default border in Firefox and Opera. */\n",
              "        border: none;\n",
              "        /* Needs to be in here for Safari polyfill so background images work as expected. */\n",
              "        background-size: auto;\n",
              "    }\n",
              "    progress:not([value]), progress:not([value])::-webkit-progress-bar {\n",
              "        background: repeating-linear-gradient(45deg, #7e7e7e, #7e7e7e 10px, #5c5c5c 10px, #5c5c5c 20px);\n",
              "    }\n",
              "    .progress-bar-interrupted, .progress-bar-interrupted::-webkit-progress-bar {\n",
              "        background: #F44336;\n",
              "    }\n",
              "</style>\n"
            ]
          },
          "metadata": {}
        },
        {
          "output_type": "display_data",
          "data": {
            "text/plain": [
              "<IPython.core.display.HTML object>"
            ],
            "text/html": [
              "\n",
              "    <div>\n",
              "      <progress value='2318336' class='' max='2314212' style='width:300px; height:20px; vertical-align: middle;'></progress>\n",
              "      100.18% [2318336/2314212 00:00&lt;00:00]\n",
              "    </div>\n",
              "    "
            ]
          },
          "metadata": {}
        },
        {
          "output_type": "display_data",
          "data": {
            "text/plain": [
              "<IPython.core.display.HTML object>"
            ],
            "text/html": [
              "\n",
              "<style>\n",
              "    /* Turns off some styling */\n",
              "    progress {\n",
              "        /* gets rid of default border in Firefox and Opera. */\n",
              "        border: none;\n",
              "        /* Needs to be in here for Safari polyfill so background images work as expected. */\n",
              "        background-size: auto;\n",
              "    }\n",
              "    progress:not([value]), progress:not([value])::-webkit-progress-bar {\n",
              "        background: repeating-linear-gradient(45deg, #7e7e7e, #7e7e7e 10px, #5c5c5c 10px, #5c5c5c 20px);\n",
              "    }\n",
              "    .progress-bar-interrupted, .progress-bar-interrupted::-webkit-progress-bar {\n",
              "        background: #F44336;\n",
              "    }\n",
              "</style>\n"
            ]
          },
          "metadata": {}
        },
        {
          "output_type": "display_data",
          "data": {
            "text/plain": [
              "<IPython.core.display.HTML object>"
            ],
            "text/html": [
              "<table border=\"1\" class=\"dataframe\">\n",
              "  <thead>\n",
              "    <tr style=\"text-align: left;\">\n",
              "      <th>epoch</th>\n",
              "      <th>train_loss</th>\n",
              "      <th>valid_loss</th>\n",
              "      <th>time</th>\n",
              "    </tr>\n",
              "  </thead>\n",
              "  <tbody>\n",
              "    <tr>\n",
              "      <td>0</td>\n",
              "      <td>2.905746</td>\n",
              "      <td>2.570137</td>\n",
              "      <td>00:01</td>\n",
              "    </tr>\n",
              "  </tbody>\n",
              "</table>"
            ]
          },
          "metadata": {}
        },
        {
          "output_type": "display_data",
          "data": {
            "text/plain": [
              "<IPython.core.display.HTML object>"
            ],
            "text/html": [
              "\n",
              "<style>\n",
              "    /* Turns off some styling */\n",
              "    progress {\n",
              "        /* gets rid of default border in Firefox and Opera. */\n",
              "        border: none;\n",
              "        /* Needs to be in here for Safari polyfill so background images work as expected. */\n",
              "        background-size: auto;\n",
              "    }\n",
              "    progress:not([value]), progress:not([value])::-webkit-progress-bar {\n",
              "        background: repeating-linear-gradient(45deg, #7e7e7e, #7e7e7e 10px, #5c5c5c 10px, #5c5c5c 20px);\n",
              "    }\n",
              "    .progress-bar-interrupted, .progress-bar-interrupted::-webkit-progress-bar {\n",
              "        background: #F44336;\n",
              "    }\n",
              "</style>\n"
            ]
          },
          "metadata": {}
        },
        {
          "output_type": "display_data",
          "data": {
            "text/plain": [
              "<IPython.core.display.HTML object>"
            ],
            "text/html": [
              "<table border=\"1\" class=\"dataframe\">\n",
              "  <thead>\n",
              "    <tr style=\"text-align: left;\">\n",
              "      <th>epoch</th>\n",
              "      <th>train_loss</th>\n",
              "      <th>valid_loss</th>\n",
              "      <th>time</th>\n",
              "    </tr>\n",
              "  </thead>\n",
              "  <tbody>\n",
              "    <tr>\n",
              "      <td>0</td>\n",
              "      <td>2.179645</td>\n",
              "      <td>1.712151</td>\n",
              "      <td>00:01</td>\n",
              "    </tr>\n",
              "    <tr>\n",
              "      <td>1</td>\n",
              "      <td>1.855664</td>\n",
              "      <td>1.246294</td>\n",
              "      <td>00:01</td>\n",
              "    </tr>\n",
              "    <tr>\n",
              "      <td>2</td>\n",
              "      <td>1.636947</td>\n",
              "      <td>1.216544</td>\n",
              "      <td>00:02</td>\n",
              "    </tr>\n",
              "    <tr>\n",
              "      <td>3</td>\n",
              "      <td>1.448741</td>\n",
              "      <td>1.206648</td>\n",
              "      <td>00:01</td>\n",
              "    </tr>\n",
              "    <tr>\n",
              "      <td>4</td>\n",
              "      <td>1.300839</td>\n",
              "      <td>0.813583</td>\n",
              "      <td>00:01</td>\n",
              "    </tr>\n",
              "    <tr>\n",
              "      <td>5</td>\n",
              "      <td>1.165396</td>\n",
              "      <td>0.757959</td>\n",
              "      <td>00:01</td>\n",
              "    </tr>\n",
              "    <tr>\n",
              "      <td>6</td>\n",
              "      <td>1.056019</td>\n",
              "      <td>0.745264</td>\n",
              "      <td>00:01</td>\n",
              "    </tr>\n",
              "    <tr>\n",
              "      <td>7</td>\n",
              "      <td>0.971794</td>\n",
              "      <td>0.739783</td>\n",
              "      <td>00:01</td>\n",
              "    </tr>\n",
              "  </tbody>\n",
              "</table>"
            ]
          },
          "metadata": {}
        }
      ],
      "source": [
        "path = untar_data(URLs.CAMVID_TINY)\n",
        "dls = SegmentationDataLoaders.from_label_func(\n",
        "    path, bs=8, fnames = get_image_files(path/\"images\"),\n",
        "    label_func = lambda o: path/'labels'/f'{o.stem}_P{o.suffix}',\n",
        "    codes = np.loadtxt(path/'codes.txt', dtype=str)\n",
        ")\n",
        "\n",
        "learn = unet_learner(dls, resnet34)\n",
        "learn.fine_tune(8)"
      ]
    },
    {
      "cell_type": "markdown",
      "metadata": {
        "id": "d33I6ZGoMPTC"
      },
      "source": [
        "We are not even going to walk through this code line by line, because it is nearly identical to our previous example! (Although we will be doing a deep dive into segmentation models in <<chapter_arch_details>>, along with all of the other models that we are briefly introducing in this chapter, and many, many more.)\n",
        "\n",
        "We can visualize how well it achieved its task, by asking the model to color-code each pixel of an image. As you can see, it nearly perfectly classifies every pixel in every object. For instance, notice that all of the cars are overlaid with the same color and all of the trees are overlaid with the same color (in each pair of images, the lefthand image is the ground truth label and the right is the prediction from the model):"
      ]
    },
    {
      "cell_type": "code",
      "execution_count": 23,
      "metadata": {
        "id": "IdtQomXhMPTC",
        "outputId": "ab2c8392-2bc8-45a0-dc7d-48547bc2a32e",
        "colab": {
          "base_uri": "https://localhost:8080/",
          "height": 732
        }
      },
      "outputs": [
        {
          "output_type": "display_data",
          "data": {
            "text/plain": [
              "<IPython.core.display.HTML object>"
            ],
            "text/html": [
              "\n",
              "<style>\n",
              "    /* Turns off some styling */\n",
              "    progress {\n",
              "        /* gets rid of default border in Firefox and Opera. */\n",
              "        border: none;\n",
              "        /* Needs to be in here for Safari polyfill so background images work as expected. */\n",
              "        background-size: auto;\n",
              "    }\n",
              "    progress:not([value]), progress:not([value])::-webkit-progress-bar {\n",
              "        background: repeating-linear-gradient(45deg, #7e7e7e, #7e7e7e 10px, #5c5c5c 10px, #5c5c5c 20px);\n",
              "    }\n",
              "    .progress-bar-interrupted, .progress-bar-interrupted::-webkit-progress-bar {\n",
              "        background: #F44336;\n",
              "    }\n",
              "</style>\n"
            ]
          },
          "metadata": {}
        },
        {
          "output_type": "display_data",
          "data": {
            "text/plain": [
              "<IPython.core.display.HTML object>"
            ],
            "text/html": []
          },
          "metadata": {}
        },
        {
          "output_type": "display_data",
          "data": {
            "text/plain": [
              "<Figure size 700x800 with 12 Axes>"
            ],
            "image/png": "[encoded data removed]"
          },
          "metadata": {}
        }
      ],
      "source": [
        "learn.show_results(max_n=6, figsize=(7,8))"
      ]
    },
    {
      "cell_type": "markdown",
      "metadata": {
        "id": "qveYAlDuMPTC"
      },
      "source": [
        "One other area where deep learning has dramatically improved in the last couple of years is natural language processing (NLP). Computers can now generate text, translate automatically from one language to another, analyze comments, label words in sentences, and much more. Here is all of the code necessary to train a model that can classify the sentiment of a movie review better than anything that existed in the world just five years ago:"
      ]
    },
    {
      "cell_type": "code",
      "execution_count": null,
      "metadata": {
        "id": "LdXpNEsDMPTC",
        "outputId": "7945e86e-908e-4e2d-9063-46861a41e1b4",
        "colab": {
          "base_uri": "https://localhost:8080/",
          "height": 135
        }
      },
      "outputs": [
        {
          "output_type": "display_data",
          "data": {
            "text/plain": [
              "<IPython.core.display.HTML object>"
            ],
            "text/html": [
              "\n",
              "<style>\n",
              "    /* Turns off some styling */\n",
              "    progress {\n",
              "        /* gets rid of default border in Firefox and Opera. */\n",
              "        border: none;\n",
              "        /* Needs to be in here for Safari polyfill so background images work as expected. */\n",
              "        background-size: auto;\n",
              "    }\n",
              "    progress:not([value]), progress:not([value])::-webkit-progress-bar {\n",
              "        background: repeating-linear-gradient(45deg, #7e7e7e, #7e7e7e 10px, #5c5c5c 10px, #5c5c5c 20px);\n",
              "    }\n",
              "    .progress-bar-interrupted, .progress-bar-interrupted::-webkit-progress-bar {\n",
              "        background: #F44336;\n",
              "    }\n",
              "</style>\n"
            ]
          },
          "metadata": {}
        },
        {
          "output_type": "display_data",
          "data": {
            "text/plain": [
              "<IPython.core.display.HTML object>"
            ],
            "text/html": [
              "\n",
              "    <div>\n",
              "      <progress value='144441344' class='' max='144440600' style='width:300px; height:20px; vertical-align: middle;'></progress>\n",
              "      100.00% [144441344/144440600 00:03&lt;00:00]\n",
              "    </div>\n",
              "    "
            ]
          },
          "metadata": {}
        },
        {
          "output_type": "display_data",
          "data": {
            "text/plain": [
              "<IPython.core.display.HTML object>"
            ],
            "text/html": [
              "\n",
              "<style>\n",
              "    /* Turns off some styling */\n",
              "    progress {\n",
              "        /* gets rid of default border in Firefox and Opera. */\n",
              "        border: none;\n",
              "        /* Needs to be in here for Safari polyfill so background images work as expected. */\n",
              "        background-size: auto;\n",
              "    }\n",
              "    progress:not([value]), progress:not([value])::-webkit-progress-bar {\n",
              "        background: repeating-linear-gradient(45deg, #7e7e7e, #7e7e7e 10px, #5c5c5c 10px, #5c5c5c 20px);\n",
              "    }\n",
              "    .progress-bar-interrupted, .progress-bar-interrupted::-webkit-progress-bar {\n",
              "        background: #F44336;\n",
              "    }\n",
              "</style>\n"
            ]
          },
          "metadata": {}
        },
        {
          "output_type": "display_data",
          "data": {
            "text/plain": [
              "<IPython.core.display.HTML object>"
            ],
            "text/html": []
          },
          "metadata": {}
        },
        {
          "output_type": "display_data",
          "data": {
            "text/plain": [
              "<IPython.core.display.HTML object>"
            ],
            "text/html": [
              "\n",
              "<style>\n",
              "    /* Turns off some styling */\n",
              "    progress {\n",
              "        /* gets rid of default border in Firefox and Opera. */\n",
              "        border: none;\n",
              "        /* Needs to be in here for Safari polyfill so background images work as expected. */\n",
              "        background-size: auto;\n",
              "    }\n",
              "    progress:not([value]), progress:not([value])::-webkit-progress-bar {\n",
              "        background: repeating-linear-gradient(45deg, #7e7e7e, #7e7e7e 10px, #5c5c5c 10px, #5c5c5c 20px);\n",
              "    }\n",
              "    .progress-bar-interrupted, .progress-bar-interrupted::-webkit-progress-bar {\n",
              "        background: #F44336;\n",
              "    }\n",
              "</style>\n"
            ]
          },
          "metadata": {}
        },
        {
          "output_type": "display_data",
          "data": {
            "text/plain": [
              "<IPython.core.display.HTML object>"
            ],
            "text/html": [
              "\n",
              "    <div>\n",
              "      <progress value='105070592' class='' max='105067061' style='width:300px; height:20px; vertical-align: middle;'></progress>\n",
              "      100.00% [105070592/105067061 00:02&lt;00:00]\n",
              "    </div>\n",
              "    "
            ]
          },
          "metadata": {}
        },
        {
          "output_type": "display_data",
          "data": {
            "text/plain": [
              "<IPython.core.display.HTML object>"
            ],
            "text/html": [
              "\n",
              "<style>\n",
              "    /* Turns off some styling */\n",
              "    progress {\n",
              "        /* gets rid of default border in Firefox and Opera. */\n",
              "        border: none;\n",
              "        /* Needs to be in here for Safari polyfill so background images work as expected. */\n",
              "        background-size: auto;\n",
              "    }\n",
              "    progress:not([value]), progress:not([value])::-webkit-progress-bar {\n",
              "        background: repeating-linear-gradient(45deg, #7e7e7e, #7e7e7e 10px, #5c5c5c 10px, #5c5c5c 20px);\n",
              "    }\n",
              "    .progress-bar-interrupted, .progress-bar-interrupted::-webkit-progress-bar {\n",
              "        background: #F44336;\n",
              "    }\n",
              "</style>\n"
            ]
          },
          "metadata": {}
        },
        {
          "output_type": "display_data",
          "data": {
            "text/plain": [
              "<IPython.core.display.HTML object>"
            ],
            "text/html": [
              "\n",
              "    <div>\n",
              "      <progress value='0' class='' max='1' style='width:300px; height:20px; vertical-align: middle;'></progress>\n",
              "      0.00% [0/1 00:00&lt;?]\n",
              "    </div>\n",
              "    \n",
              "<table border=\"1\" class=\"dataframe\">\n",
              "  <thead>\n",
              "    <tr style=\"text-align: left;\">\n",
              "      <th>epoch</th>\n",
              "      <th>train_loss</th>\n",
              "      <th>valid_loss</th>\n",
              "      <th>accuracy</th>\n",
              "      <th>time</th>\n",
              "    </tr>\n",
              "  </thead>\n",
              "  <tbody>\n",
              "  </tbody>\n",
              "</table><p>\n",
              "\n",
              "    <div>\n",
              "      <progress value='167' class='' max='391' style='width:300px; height:20px; vertical-align: middle;'></progress>\n",
              "      42.71% [167/391 01:07&lt;01:30 0.4662]\n",
              "    </div>\n",
              "    "
            ]
          },
          "metadata": {}
        }
      ],
      "source": [
        "from fastai.text.all import *\n",
        "\n",
        "dls = TextDataLoaders.from_folder(untar_data(URLs.IMDB), valid='test')\n",
        "learn = text_classifier_learner(dls, AWD_LSTM, drop_mult=0.5, metrics=accuracy)\n",
        "learn.fine_tune(4, 1e-2)"
      ]
    },
    {
      "cell_type": "markdown",
      "metadata": {
        "id": "WTF9JTwUMPTC"
      },
      "source": [
        "#clean\n",
        "If you hit a \"CUDA out of memory error\" after running this cell, click on the menu Kernel, then restart. Instead of executing the cell above, copy and paste the following code in it:\n",
        "\n",
        "```\n",
        "from fastai.text.all import *\n",
        "\n",
        "dls = TextDataLoaders.from_folder(untar_data(URLs.IMDB), valid='test', bs=32)\n",
        "learn = text_classifier_learner(dls, AWD_LSTM, drop_mult=0.5, metrics=accuracy)\n",
        "learn.fine_tune(4, 1e-2)\n",
        "```\n",
        "\n",
        "This reduces the batch size to 32 (we will explain this later). If you keep hitting the same error, change 32 to 16."
      ]
    },
    {
      "cell_type": "markdown",
      "metadata": {
        "id": "MOsp01b-MPTC"
      },
      "source": [
        "This model is using the [\"IMDb Large Movie Review dataset\"](https://ai.stanford.edu/~ang/papers/acl11-WordVectorsSentimentAnalysis.pdf) from the paper \"Learning Word Vectors for Sentiment Analysis\" by Andrew Maas et al. It works well with movie reviews of many thousands of words, but let's test it out on a very short one to see how it does its thing:"
      ]
    },
    {
      "cell_type": "code",
      "execution_count": null,
      "metadata": {
        "id": "f-sq78_bMPTC"
      },
      "outputs": [],
      "source": [
        "learn.predict(\"I really liked that movie!\")"
      ]
    },
    {
      "cell_type": "markdown",
      "metadata": {
        "id": "ffZSy2lIMPTD"
      },
      "source": [
        "Here we can see the model has considered the review to be positive. The second part of the result is the index of \"pos\" in our data vocabulary and the last part is the probabilities attributed to each class (99.6% for \"pos\" and 0.4% for \"neg\").\n",
        "\n",
        "Now it's your turn! Write your own mini movie review, or copy one from the internet, and you can see what this model thinks about it."
      ]
    },
    {
      "cell_type": "markdown",
      "metadata": {
        "id": "tv3NVBj7MPTD"
      },
      "source": [
        "### Sidebar: The Order Matters"
      ]
    },
    {
      "cell_type": "markdown",
      "metadata": {
        "id": "iCEpTnf_MPTD"
      },
      "source": [
        "In a Jupyter notebook, the order in which you execute each cell is very important. It's not like Excel, where everything gets updated as soon as you type something anywhere—it has an inner state that gets updated each time you execute a cell. For instance, when you run the first cell of the notebook (with the \"CLICK ME\" comment), you create an object called `learn` that contains a model and data for an image classification problem. If we were to run the cell just shown in the text (the one that predicts if a review is good or not) straight after, we would get an error as this `learn` object does not contain a text classification model. This cell needs to be run after the one containing:\n",
        "\n",
        "```python\n",
        "from fastai.text.all import *\n",
        "\n",
        "dls = TextDataLoaders.from_folder(untar_data(URLs.IMDB), valid='test')\n",
        "learn = text_classifier_learner(dls, AWD_LSTM, drop_mult=0.5,\n",
        "                                metrics=accuracy)\n",
        "learn.fine_tune(4, 1e-2)\n",
        "```\n",
        "\n",
        "The outputs themselves can be deceiving, because they include the results of the last time the cell was executed; if you change the code inside a cell without executing it, the old (misleading) results will remain.\n",
        "\n",
        "Except when we mention it explicitly, the notebooks provided on the [book website](https://book.fast.ai/) are meant to be run in order, from top to bottom. In general, when experimenting, you will find yourself executing cells in any order to go fast (which is a super neat feature of Jupyter Notebook), but once you have explored and arrived at the final version of your code, make sure you can run the cells of your notebooks in order (your future self won't necessarily remember the convoluted path you took otherwise!).\n",
        "\n",
        "In command mode, pressing `0` twice will restart the *kernel* (which is the engine powering your notebook). This will wipe your state clean and make it as if you had just started in the notebook. Choose Run All Above from the Cell menu to run all cells above the point where you are. We have found this to be very useful when developing the fastai library."
      ]
    },
    {
      "cell_type": "markdown",
      "metadata": {
        "id": "NHxiEydDMPTD"
      },
      "source": [
        "### End sidebar"
      ]
    },
    {
      "cell_type": "markdown",
      "metadata": {
        "id": "g-ld8NbMMPTD"
      },
      "source": [
        "If you ever have any questions about a fastai method, you should use the function `doc`, passing it the method name:\n",
        "\n",
        "```python\n",
        "doc(learn.predict)\n",
        "```\n",
        "\n",
        "This will make a small window pop up with content like this:\n",
        "\n",
        "<img src=\"https://github.com/fastai/fastbook/blob/master/images/doc_ex.png?raw=1\" width=\"600\">"
      ]
    },
    {
      "cell_type": "markdown",
      "metadata": {
        "id": "jvtIR1oCMPTD"
      },
      "source": [
        "A brief one-line explanation is provided by `doc`. The \"Show in docs\" link takes you to the full documentation, where you'll find all the details and lots of examples. Also, most of fastai's methods are just a handful of lines, so you can click the \"source\" link to see exactly what's going on behind the scenes.\n",
        "\n",
        "Let's move on to something much less sexy, but perhaps significantly more widely commercially useful: building models from plain *tabular* data."
      ]
    },
    {
      "cell_type": "markdown",
      "metadata": {
        "id": "NBCPgjgEMPTD"
      },
      "source": [
        "> jargon: Tabular: Data that is in the form of a table, such as from a spreadsheet, database, or CSV file. A tabular model is a model that tries to predict one column of a table based on information in other columns of the table."
      ]
    },
    {
      "cell_type": "markdown",
      "metadata": {
        "id": "pbTveqB7MPTD"
      },
      "source": [
        "It turns out that looks very similar too. Here is the code necessary to train a model that will predict whether a person is a high-income earner, based on their socioeconomic background:"
      ]
    },
    {
      "cell_type": "code",
      "execution_count": null,
      "metadata": {
        "id": "EhnlDDLpMPTD"
      },
      "outputs": [],
      "source": [
        "from fastai.tabular.all import *\n",
        "path = untar_data(URLs.ADULT_SAMPLE)\n",
        "\n",
        "dls = TabularDataLoaders.from_csv(path/'adult.csv', path=path, y_names=\"salary\",\n",
        "    cat_names = ['workclass', 'education', 'marital-status', 'occupation',\n",
        "                 'relationship', 'race'],\n",
        "    cont_names = ['age', 'fnlwgt', 'education-num'],\n",
        "    procs = [Categorify, FillMissing, Normalize])\n",
        "\n",
        "learn = tabular_learner(dls, metrics=accuracy)"
      ]
    },
    {
      "cell_type": "markdown",
      "metadata": {
        "id": "xgRa5QVyMPTD"
      },
      "source": [
        "As you see, we had to tell fastai which columns are *categorical* (that is, contain values that are one of a discrete set of choices, such as `occupation`) and which are *continuous* (that is, contain a number that represents a quantity, such as `age`).\n",
        "\n",
        "There is no pretrained model available for this task (in general, pretrained models are not widely available for any tabular modeling tasks, although some organizations have created them for internal use), so we don't use `fine_tune` in this case. Instead we use `fit_one_cycle`, the most commonly used method for training fastai models *from scratch* (i.e. without transfer learning):"
      ]
    },
    {
      "cell_type": "code",
      "execution_count": null,
      "metadata": {
        "id": "oczSHy3cMPTD"
      },
      "outputs": [],
      "source": [
        "learn.fit_one_cycle(3)"
      ]
    },
    {
      "cell_type": "markdown",
      "metadata": {
        "id": "uPvxERRiMPTD"
      },
      "source": [
        "This model is using the [*Adult* dataset](http://robotics.stanford.edu/~ronnyk/nbtree.pdf), from the paper \"Scaling Up the Accuracy of Naive-Bayes Classifiers: a Decision-Tree Hybrid\" by Rob Kohavi, which contains some demographic data about individuals (like their education, marital status, race, sex, and whether or not they have an annual income greater than \\$50k). The model is over 80\\% accurate, and took around 30 seconds to train."
      ]
    },
    {
      "cell_type": "markdown",
      "metadata": {
        "id": "Queggwy2MPTE"
      },
      "source": [
        "Let's look at one more. Recommendation systems are very important, particularly in e-commerce. Companies like Amazon and Netflix try hard to recommend products or movies that users might like. Here's how to train a model that will predict movies people might like, based on their previous viewing habits, using the [MovieLens dataset](https://doi.org/10.1145/2827872):"
      ]
    },
    {
      "cell_type": "code",
      "execution_count": null,
      "metadata": {
        "id": "_NvC-knhMPTE"
      },
      "outputs": [],
      "source": [
        "from fastai.collab import *\n",
        "path = untar_data(URLs.ML_SAMPLE)\n",
        "dls = CollabDataLoaders.from_csv(path/'ratings.csv')\n",
        "learn = collab_learner(dls, y_range=(0.5,5.5))\n",
        "learn.fine_tune(10)"
      ]
    },
    {
      "cell_type": "markdown",
      "metadata": {
        "id": "7IoZ8Qt6MPTE"
      },
      "source": [
        "This model is predicting movie ratings on a scale of 0.5 to 5.0 to within around 0.6 average error. Since we're predicting a continuous number, rather than a category, we have to tell fastai what range our target has, using the `y_range` parameter.\n",
        "\n",
        "Although we're not actually using a pretrained model (for the same reason that we didn't for the tabular model), this example shows that fastai lets us use `fine_tune` anyway in this case (you'll learn how and why this works in <<chapter_pet_breeds>>). Sometimes it's best to experiment with `fine_tune` versus `fit_one_cycle` to see which works best for your dataset.\n",
        "\n",
        "We can use the same `show_results` call we saw earlier to view a few examples of user and movie IDs, actual ratings, and predictions:"
      ]
    },
    {
      "cell_type": "code",
      "execution_count": null,
      "metadata": {
        "id": "eyFnbZiLMPTE"
      },
      "outputs": [],
      "source": [
        "learn.show_results()"
      ]
    },
    {
      "cell_type": "markdown",
      "metadata": {
        "id": "cGxJMgBQMPTE"
      },
      "source": [
        "### Sidebar: Datasets: Food for Models"
      ]
    },
    {
      "cell_type": "markdown",
      "metadata": {
        "id": "vcQqmc77MPTE"
      },
      "source": [
        "You’ve already seen quite a few models in this section, each one trained using a different dataset to do a different task. In machine learning and deep learning, we can’t do anything without data. So, the people that create datasets for us to train our models on are the (often underappreciated) heroes. Some of the most useful and important datasets are those that become important *academic baselines*; that is, datasets that are widely studied by researchers and used to compare algorithmic changes. Some of these become household names (at least, among households that train models!), such as MNIST, CIFAR-10, and ImageNet.\n",
        "\n",
        "The datasets used in this book have been selected because they provide great examples of the kinds of data that you are likely to encounter, and the academic literature has many examples of model results using these datasets to which you can compare your work.\n",
        "\n",
        "Most datasets used in this book took the creators a lot of work to build. For instance, later in the book we’ll be showing you how to create a model that can translate between French and English. The key input to this is a French/English parallel text corpus prepared back in 2009 by Professor Chris Callison-Burch of the University of Pennsylvania. This dataset contains over 20 million sentence pairs in French and English. He built the dataset in a really clever way: by crawling millions of Canadian web pages (which are often multilingual) and then using a set of simple heuristics to transform URLs of French content onto URLs pointing to the same content in English.\n",
        "\n",
        "As you look at datasets throughout this book, think about where they might have come from, and how they might have been curated. Then think about what kinds of interesting datasets you could create for your own projects. (We’ll even take you step by step through the process of creating your own image dataset soon.)\n",
        "\n",
        "fast.ai has spent a lot of time creating cut-down versions of popular datasets that are specially designed to support rapid prototyping and experimentation, and to be easier to learn with. In this book we will often start by using one of the cut-down versions and later scale up to the full-size version (just as we're doing in this chapter!). In fact, this is how the world’s top practitioners do their modeling in practice; they do most of their experimentation and prototyping with subsets of their data, and only use the full dataset when they have a good understanding of what they have to do."
      ]
    },
    {
      "cell_type": "markdown",
      "metadata": {
        "id": "XyrJMrwPMPTE"
      },
      "source": [
        "### End sidebar"
      ]
    },
    {
      "cell_type": "markdown",
      "metadata": {
        "id": "YvURCRtxMPTE"
      },
      "source": [
        "Each of the models we trained showed a training and validation loss. A good validation set is one of the most important pieces of the training process. Let's see why and learn how to create one."
      ]
    },
    {
      "cell_type": "markdown",
      "metadata": {
        "id": "z9OUxDdKMPTE"
      },
      "source": [
        "## Validation Sets and Test Sets"
      ]
    },
    {
      "cell_type": "markdown",
      "metadata": {
        "id": "R4UiJbClMPTE"
      },
      "source": [
        "As we've discussed, the goal of a model is to make predictions about data. But the model training process is fundamentally dumb. If we trained a model with all our data, and then evaluated the model using that same data, we would not be able to tell how well our model can perform on data it hasn’t seen. Without this very valuable piece of information to guide us in training our model, there is a very good chance it would become good at making predictions about that data but would perform poorly on new data.\n",
        "\n",
        "To avoid this, our first step was to split our dataset into two sets: the *training set* (which our model sees in training) and the *validation set*, also known as the *development set* (which is used only for evaluation). This lets us test that the model learns lessons from the training data that generalize to new data, the validation data.\n",
        "\n",
        "One way to understand this situation is that, in a sense, we don't want our model to get good results by \"cheating.\" If it makes an accurate prediction for a data item, that should be because it has learned characteristics of that kind of item, and not because the model has been shaped by *actually having seen that particular item*.\n",
        "\n",
        "Splitting off our validation data means our model never sees it in training and so is completely untainted by it, and is not cheating in any way. Right?\n",
        "\n",
        "In fact, not necessarily. The situation is more subtle. This is because in realistic scenarios we rarely build a model just by training its weight parameters once. Instead, we are likely to explore many versions of a model through various modeling choices regarding network architecture, learning rates, data augmentation strategies, and other factors we will discuss in upcoming chapters. Many of these choices can be described as choices of *hyperparameters*. The word reflects that they are parameters about parameters, since they are the higher-level choices that govern the meaning of the weight parameters."
      ]
    },
    {
      "cell_type": "markdown",
      "metadata": {
        "id": "yDROWOiDMPTE"
      },
      "source": [
        "The problem is that even though the ordinary training process is only looking at predictions on the training data when it learns values for the weight parameters, the same is not true of us. We, as modelers, are evaluating the model by looking at predictions on the validation data when we decide to explore new hyperparameter values! So subsequent versions of the model are, indirectly, shaped by us having seen the validation data. Just as the automatic training process is in danger of overfitting the training data, we are in danger of overfitting the validation data through human trial and error and exploration.\n",
        "\n",
        "The solution to this conundrum is to introduce another level of even more highly reserved data, the *test set*. Just as we hold back the validation data from the training process, we must hold back the test set data even from ourselves. It cannot be used to improve the model; it can only be used to evaluate the model at the very end of our efforts. In effect, we define a hierarchy of cuts of our data, based on how fully we want to hide it from training and modeling processes: training data is fully exposed, the validation data is less exposed, and test data is totally hidden. This hierarchy parallels the different kinds of modeling and evaluation processes themselves—the automatic training process with back propagation, the more manual process of trying different hyper-parameters between training sessions, and the assessment of our final result.\n",
        "\n",
        "The test and validation sets should have enough data to ensure that you get a good estimate of your accuracy. If you're creating a cat detector, for instance, you generally want at least 30 cats in your validation set. That means that if you have a dataset with thousands of items, using the default 20% validation set size may be more than you need. On the other hand, if you have lots of data, using some of it for validation probably doesn't have any downsides.\n",
        "\n",
        "Having two levels of \"reserved data\"—a validation set and a test set, with one level representing data that you are virtually hiding from yourself—may seem a bit extreme. But the reason it is often necessary is because models tend to gravitate toward the simplest way to do good predictions (memorization), and we as fallible humans tend to gravitate toward fooling ourselves about how well our models are performing. The discipline of the test set helps us keep ourselves intellectually honest. That doesn't mean we *always* need a separate test set—if you have very little data, you may need to just have a validation set—but generally it's best to use one if at all possible.\n",
        "\n",
        "This same discipline can be critical if you intend to hire a third party to perform modeling work on your behalf. A third party might not understand your requirements accurately, or their incentives might even encourage them to misunderstand them. A good test set can greatly mitigate these risks and let you evaluate whether their work solves your actual problem.\n",
        "\n",
        "To put it bluntly, if you're a senior decision maker in your organization (or you're advising senior decision makers), the most important takeaway is this: if you ensure that you really understand what test and validation sets are and why they're important, then you'll avoid the single biggest source of failures we've seen when organizations decide to use AI. For instance, if you're considering bringing in an external vendor or service, make sure that you hold out some test data that the vendor *never gets to see*. Then *you* check their model on your test data, using a metric that *you* choose based on what actually matters to you in practice, and *you* decide what level of performance is adequate. (It's also a good idea for you to try out some simple baseline yourself, so you know what a really simple model can achieve. Often it'll turn out that your simple model performs just as well as one produced by an external \"expert\"!)"
      ]
    },
    {
      "cell_type": "markdown",
      "metadata": {
        "id": "lSxHzRq_MPTF"
      },
      "source": [
        "### Use Judgment in Defining Test Sets"
      ]
    },
    {
      "cell_type": "markdown",
      "metadata": {
        "id": "vFV1RLDfMPTF"
      },
      "source": [
        "To do a good job of defining a validation set (and possibly a test set), you will sometimes want to do more than just randomly grab a fraction of your original dataset. Remember: a key property of the validation and test sets is that they must be representative of the new data you will see in the future. This may sound like an impossible order! By definition, you haven’t seen this data yet. But you usually still do know some things.\n",
        "\n",
        "It's instructive to look at a few example cases. Many of these examples come from predictive modeling competitions on the [Kaggle](https://www.kaggle.com/) platform, which is a good representation of problems and methods you might see in practice.\n",
        "\n",
        "One case might be if you are looking at time series data. For a time series, choosing a random subset of the data will be both too easy (you can look at the data both before and after the dates you are trying to predict) and not representative of most business use cases (where you are using historical data to build a model for use in the future). If your data includes the date and you are building a model to use in the future, you will want to choose a continuous section with the latest dates as your validation set (for instance, the last two weeks or last month of available data).\n",
        "\n",
        "Suppose you want to split the time series data in <<timeseries1>> into training and validation sets."
      ]
    },
    {
      "cell_type": "markdown",
      "metadata": {
        "id": "wACZRBP8MPTF"
      },
      "source": [
        "<img src=\"https://github.com/fastai/fastbook/blob/master/images/timeseries1.png?raw=1\" width=\"400\" id=\"timeseries1\" caption=\"A time series\" alt=\"A serie of values\">"
      ]
    },
    {
      "cell_type": "markdown",
      "metadata": {
        "id": "gpOOpKOFMPTF"
      },
      "source": [
        "A random subset is a poor choice (too easy to fill in the gaps, and not indicative of what you'll need in production), as we can see in <<timeseries2>>."
      ]
    },
    {
      "cell_type": "markdown",
      "metadata": {
        "id": "GUXIqJ8OMPTF"
      },
      "source": [
        "<img src=\"https://github.com/fastai/fastbook/blob/master/images/timeseries2.png?raw=1\" width=\"400\" id=\"timeseries2\" caption=\"A poor training subset\" alt=\"Random training subset\">"
      ]
    },
    {
      "cell_type": "markdown",
      "metadata": {
        "id": "W17SyWDSMPTF"
      },
      "source": [
        "Instead, use the earlier data as your training set (and the later data for the validation set), as shown in <<timeseries3>>."
      ]
    },
    {
      "cell_type": "markdown",
      "metadata": {
        "id": "vHlOEPSrMPTF"
      },
      "source": [
        "<img src=\"https://github.com/fastai/fastbook/blob/master/images/timeseries3.png?raw=1\" width=\"400\" id=\"timeseries3\" caption=\"A good training subset\" alt=\"Training subset using the data up to a certain timestamp\">"
      ]
    },
    {
      "cell_type": "markdown",
      "metadata": {
        "id": "iUc9zK2cMPTF"
      },
      "source": [
        "For example, Kaggle had a competition to [predict the sales in a chain of Ecuadorian grocery stores](https://www.kaggle.com/c/favorita-grocery-sales-forecasting). Kaggle's training data ran from Jan 1 2013 to Aug 15 2017, and the test data spanned Aug 16 2017 to Aug 31 2017. That way, the competition organizer ensured that entrants were making predictions for a time period that was *in the future*, from the perspective of their model. This is similar to the way quant hedge fund traders do *back-testing* to check whether their models are predictive of future periods, based on past data."
      ]
    },
    {
      "cell_type": "markdown",
      "metadata": {
        "id": "2HJR_dPNMPTF"
      },
      "source": [
        "A second common case is when you can easily anticipate ways the data you will be making predictions for in production may be *qualitatively different* from the data you have to train your model with.\n",
        "\n",
        "In the Kaggle [distracted driver competition](https://www.kaggle.com/c/state-farm-distracted-driver-detection), the independent variables are pictures of drivers at the wheel of a car, and the dependent variables are categories such as texting, eating, or safely looking ahead. Lots of pictures are of the same drivers in different positions, as we can see in <<img_driver>>. If you were an insurance company building a model from this data, note that you would be most interested in how the model performs on drivers it hasn't seen before (since you would likely have training data only for a small group of people). In recognition of this, the test data for the competition consists of images of people that don't appear in the training set."
      ]
    },
    {
      "cell_type": "markdown",
      "metadata": {
        "id": "F0bpFDE8MPTF"
      },
      "source": [
        "<img src=\"https://github.com/fastai/fastbook/blob/master/images/driver.PNG?raw=1\" width=\"600\" id=\"img_driver\" caption=\"Two pictures from the training data\" alt=\"Two pictures from the training data, showing the same driver\">"
      ]
    },
    {
      "cell_type": "markdown",
      "metadata": {
        "id": "D2Siz3QWMPTF"
      },
      "source": [
        "If you put one of the images in <<img_driver>> in your training set and one in the validation set, your model will have an easy time making a prediction for the one in the validation set, so it will seem to be performing better than it would on new people. Another perspective is that if you used all the people in training your model, your model might be overfitting to particularities of those specific people, and not just learning the states (texting, eating, etc.).\n",
        "\n",
        "A similar dynamic was at work in the [Kaggle fisheries competition](https://www.kaggle.com/c/the-nature-conservancy-fisheries-monitoring) to identify the species of fish caught by fishing boats in order to reduce illegal fishing of endangered populations.  The test set consisted of boats that didn't appear in the training data.  This means that you'd want your validation set to include boats that are not in the training set.\n",
        "\n",
        "Sometimes it may not be clear how your validation data will differ.  For instance, for a problem using satellite imagery, you'd need to gather more information on whether the training set just contained certain geographic locations, or if it came from geographically scattered data."
      ]
    },
    {
      "cell_type": "markdown",
      "metadata": {
        "id": "TB745KHzMPTF"
      },
      "source": [
        "Now that you have gotten a taste of how to build a model, you can decide what you want to dig into next."
      ]
    },
    {
      "cell_type": "markdown",
      "metadata": {
        "id": "SAm-n2UZMPTF"
      },
      "source": [
        "## A _Choose Your Own Adventure_ moment"
      ]
    },
    {
      "cell_type": "markdown",
      "metadata": {
        "id": "epNBKyKxMPTG"
      },
      "source": [
        "If you would like to learn more about how to use deep learning models in practice, including how to identify and fix errors, create a real working web application, and avoid your model causing unexpected harm to your organization or society more generally, then keep reading the next two chapters. If you would like to start learning the foundations of how deep learning works under the hood, skip to <<chapter_mnist_basics>>. (Did you ever read _Choose Your Own Adventure_ books as a kid? Well, this is kind of like that… except with more deep learning than that book series contained.)\n",
        "\n",
        "You will need to read all these chapters to progress further in the book, but it is totally up to you which order you read them in. They don't depend on each other. If you skip ahead to <<chapter_mnist_basics>>, we will remind you at the end to come back and read the chapters you skipped over before you go any further."
      ]
    },
    {
      "cell_type": "markdown",
      "metadata": {
        "id": "uvRVV_gFMPTG"
      },
      "source": [
        "## Questionnaire"
      ]
    },
    {
      "cell_type": "markdown",
      "metadata": {
        "id": "0jsDYhEhMPTG"
      },
      "source": [
        "It can be hard to know in pages and pages of prose what the key things are that you really need to focus on and remember. So, we've prepared a list of questions and suggested steps to complete at the end of each chapter. All the answers are in the text of the chapter, so if you're not sure about anything here, reread that part of the text and make sure you understand it. Answers to all these questions are also available on the [book's website](https://book.fast.ai). You can also visit [the forums](https://forums.fast.ai) if you get stuck to get help from other folks studying this material.\n",
        "\n",
        "For more questions, including detailed answers and links to the video timeline, have a look at Radek Osmulski's [aiquizzes](http://aiquizzes.com/howto)."
      ]
    },
    {
      "cell_type": "markdown",
      "metadata": {
        "id": "a-IdmBxVMPTG"
      },
      "source": [
        "1. Do you need these for deep learning?\n",
        "\n",
        "   - Lots of math T / F\n",
        "   - Lots of data T / F\n",
        "   - Lots of expensive computers T / F\n",
        "   - A PhD T / F\n",
        "   \n",
        "1. Name five areas where deep learning is now the best in the world.\n",
        "1. What was the name of the first device that was based on the principle of the artificial neuron?\n",
        "1. Based on the book of the same name, what are the requirements for parallel distributed processing (PDP)?\n",
        "1. What were the two theoretical misunderstandings that held back the field of neural networks?\n",
        "1. What is a GPU?\n",
        "1. Open a notebook and execute a cell containing: `1+1`. What happens?\n",
        "1. Follow through each cell of the stripped version of the notebook for this chapter. Before executing each cell, guess what will happen.\n",
        "1. Complete the Jupyter Notebook online appendix.\n",
        "1. Why is it hard to use a traditional computer program to recognize images in a photo?\n",
        "1. What did Samuel mean by \"weight assignment\"?\n",
        "1. What term do we normally use in deep learning for what Samuel called \"weights\"?\n",
        "1. Draw a picture that summarizes Samuel's view of a machine learning model.\n",
        "1. Why is it hard to understand why a deep learning model makes a particular prediction?\n",
        "1. What is the name of the theorem that shows that a neural network can solve any mathematical problem to any level of accuracy?\n",
        "1. What do you need in order to train a model?\n",
        "1. How could a feedback loop impact the rollout of a predictive policing model?\n",
        "1. Do we always have to use 224×224-pixel images with the cat recognition model?\n",
        "1. What is the difference between classification and regression?\n",
        "1. What is a validation set? What is a test set? Why do we need them?\n",
        "1. What will fastai do if you don't provide a validation set?\n",
        "1. Can we always use a random sample for a validation set? Why or why not?\n",
        "1. What is overfitting? Provide an example.\n",
        "1. What is a metric? How does it differ from \"loss\"?\n",
        "1. How can pretrained models help?\n",
        "1. What is the \"head\" of a model?\n",
        "1. What kinds of features do the early layers of a CNN find? How about the later layers?\n",
        "1. Are image models only useful for photos?\n",
        "1. What is an \"architecture\"?\n",
        "1. What is segmentation?\n",
        "1. What is `y_range` used for? When do we need it?\n",
        "1. What are \"hyperparameters\"?\n",
        "1. What's the best way to avoid failures when using AI in an organization?"
      ]
    },
    {
      "cell_type": "markdown",
      "metadata": {
        "id": "7hGx5mLtMPTG"
      },
      "source": [
        "### Further Research"
      ]
    },
    {
      "cell_type": "markdown",
      "metadata": {
        "id": "so_VAxTMMPTG"
      },
      "source": [
        "Each chapter also has a \"Further Research\" section that poses questions that aren't fully answered in the text, or gives more advanced assignments. Answers to these questions aren't on the book's website; you'll need to do your own research!"
      ]
    },
    {
      "cell_type": "markdown",
      "metadata": {
        "id": "IvNtRfQWMPTG"
      },
      "source": [
        "1. Why is a GPU useful for deep learning? How is a CPU different, and why is it less effective for deep learning?\n",
        "1. Try to think of three areas where feedback loops might impact the use of machine learning. See if you can find documented examples of that happening in practice."
      ]
    },
    {
      "cell_type": "code",
      "execution_count": null,
      "metadata": {
        "id": "Oa9StFzSMPTG"
      },
      "outputs": [],
      "source": []
    }
  ],
  "metadata": {
    "jupytext": {
      "split_at_heading": true
    },
    "kernelspec": {
      "display_name": "Python 3",
      "name": "python3"
    },
    "colab": {
      "provenance": [],
      "gpuType": "T4",
      "include_colab_link": true
    },
    "accelerator": "GPU",
    "widgets": {
      "application/vnd.jupyter.widget-state+json": {
        "b2320ccafb024b1f95f1cea177c96342": {
          "model_module": "@jupyter-widgets/controls",
          "model_name": "FileUploadModel",
          "model_module_version": "1.5.0",
          "state": {
            "_counter": 0,
            "_dom_classes": [],
            "_model_module": "@jupyter-widgets/controls",
            "_model_module_version": "1.5.0",
            "_model_name": "FileUploadModel",
            "_view_count": null,
            "_view_module": "@jupyter-widgets/controls",
            "_view_module_version": "1.5.0",
            "_view_name": "FileUploadView",
            "accept": "",
            "button_style": "",
            "data": [],
            "description": "Upload",
            "description_tooltip": null,
            "disabled": false,
            "error": "",
            "icon": "upload",
            "layout": "IPY_MODEL_68833d5c0a254a2b85aabdd1d7d679d3",
            "metadata": [],
            "multiple": false,
            "style": "IPY_MODEL_b43cdd9321e44761b807373bc0b9c658"
          }
        },
        "68833d5c0a254a2b85aabdd1d7d679d3": {
          "model_module": "@jupyter-widgets/base",
          "model_name": "LayoutModel",
          "model_module_version": "1.2.0",
          "state": {
            "_model_module": "@jupyter-widgets/base",
            "_model_module_version": "1.2.0",
            "_model_name": "LayoutModel",
            "_view_count": null,
            "_view_module": "@jupyter-widgets/base",
            "_view_module_version": "1.2.0",
            "_view_name": "LayoutView",
            "align_content": null,
            "align_items": null,
            "align_self": null,
            "border": null,
            "bottom": null,
            "display": null,
            "flex": null,
            "flex_flow": null,
            "grid_area": null,
            "grid_auto_columns": null,
            "grid_auto_flow": null,
            "grid_auto_rows": null,
            "grid_column": null,
            "grid_gap": null,
            "grid_row": null,
            "grid_template_areas": null,
            "grid_template_columns": null,
            "grid_template_rows": null,
            "height": null,
            "justify_content": null,
            "justify_items": null,
            "left": null,
            "margin": null,
            "max_height": null,
            "max_width": null,
            "min_height": null,
            "min_width": null,
            "object_fit": null,
            "object_position": null,
            "order": null,
            "overflow": null,
            "overflow_x": null,
            "overflow_y": null,
            "padding": null,
            "right": null,
            "top": null,
            "visibility": null,
            "width": null
          }
        },
        "b43cdd9321e44761b807373bc0b9c658": {
          "model_module": "@jupyter-widgets/controls",
          "model_name": "ButtonStyleModel",
          "model_module_version": "1.5.0",
          "state": {
            "_model_module": "@jupyter-widgets/controls",
            "_model_module_version": "1.5.0",
            "_model_name": "ButtonStyleModel",
            "_view_count": null,
            "_view_module": "@jupyter-widgets/base",
            "_view_module_version": "1.2.0",
            "_view_name": "StyleView",
            "button_color": null,
            "font_weight": ""
          }
        }
      }
    }
  },
  "nbformat": 4,
  "nbformat_minor": 0
}